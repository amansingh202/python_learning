{
 "cells": [
  {
   "cell_type": "markdown",
   "id": "104289d1",
   "metadata": {},
   "source": [
    "# Logistic Regression\n",
    "Logistic regression with different data sets"
   ]
  },
  {
   "cell_type": "code",
   "execution_count": 28,
   "id": "db22f35d",
   "metadata": {},
   "outputs": [],
   "source": [
    "import numpy as np\n",
    "import matplotlib.pyplot as plt\n",
    "from utils import *\n",
    "import copy\n",
    "import math\n",
    "\n",
    "%matplotlib inline"
   ]
  },
  {
   "cell_type": "markdown",
   "id": "2e4ade91",
   "metadata": {},
   "source": [
    "Loading the dataset "
   ]
  },
  {
   "cell_type": "code",
   "execution_count": 29,
   "id": "90243c62",
   "metadata": {},
   "outputs": [],
   "source": [
    "X_train, y_train = load_data('ex2data1.txt')\n"
   ]
  },
  {
   "cell_type": "code",
   "execution_count": 30,
   "id": "76914368",
   "metadata": {},
   "outputs": [
    {
     "name": "stdout",
     "output_type": "stream",
     "text": [
      "First five elements are : \n",
      " [[34.62365962 78.02469282]\n",
      " [30.28671077 43.89499752]\n",
      " [35.84740877 72.90219803]\n",
      " [60.18259939 86.3085521 ]\n",
      " [79.03273605 75.34437644]]\n",
      "Type of X_train : <class 'numpy.ndarray'>\n",
      "Shape of X_train is : (100, 2)\n"
     ]
    }
   ],
   "source": [
    "#first five elements is \n",
    "print(f\"First five elements are : \\n {X_train[:5]}\")\n",
    "print(f\"Type of X_train : {type(X_train)}\")\n",
    "print(f\"Shape of X_train is : {X_train.shape}\")"
   ]
  },
  {
   "cell_type": "code",
   "execution_count": 31,
   "id": "3f74c9bc",
   "metadata": {},
   "outputs": [
    {
     "name": "stdout",
     "output_type": "stream",
     "text": [
      "First 5 values in y are: [0. 0. 0. 1. 1.]\n",
      "Type of y_train is : <class 'numpy.ndarray'>\n"
     ]
    }
   ],
   "source": [
    "#first five elements in y are\n",
    "\n",
    "print(f\"First 5 values in y are: {y_train[:5]}\")\n",
    "print(f\"Type of y_train is : {type(y_train)}\")"
   ]
  },
  {
   "cell_type": "code",
   "execution_count": 32,
   "id": "a8ea3640",
   "metadata": {},
   "outputs": [
    {
     "name": "stdout",
     "output_type": "stream",
     "text": [
      "Shape of X_train is : (100, 2)\n",
      "Shape of y_train is : (100,)\n",
      "Number of training examples : 100\n"
     ]
    }
   ],
   "source": [
    "print(f\"Shape of X_train is : {X_train.shape}\")\n",
    "print(f\"Shape of y_train is : {y_train.shape}\")\n",
    "print(f\"Number of training examples : {len(y_train)}\")"
   ]
  },
  {
   "cell_type": "markdown",
   "id": "45dbd539",
   "metadata": {},
   "source": [
    "# Visualizing the data"
   ]
  },
  {
   "cell_type": "code",
   "execution_count": 33,
   "id": "416166a8",
   "metadata": {},
   "outputs": [
    {
     "data": {
      "image/png": "[encoded data removed]",
      "text/plain": [
       "<Figure size 640x480 with 1 Axes>"
      ]
     },
     "metadata": {},
     "output_type": "display_data"
    }
   ],
   "source": [
    "#plotting examples\n",
    "plot_data(X_train, y_train, pos_label=\"Admitted\", neg_label= \"Not Admitted\")\n",
    "\n",
    "#set y label\n",
    "plt.ylabel('Exam 2 Score')\n",
    "plt.xlabel('Exam 1 Score')\n",
    "plt.legend(loc = \"upper right\")\n",
    "plt.show()"
   ]
  },
  {
   "cell_type": "markdown",
   "id": "44458b18",
   "metadata": {},
   "source": [
    "Sigmoid Function definition"
   ]
  },
  {
   "cell_type": "code",
   "execution_count": 34,
   "id": "9a3b71cc",
   "metadata": {},
   "outputs": [],
   "source": [
    "#function for sigmoid function\n",
    "def sigmoid(z):\n",
    "    g = 1/ (1 + np.exp(-z))\n",
    "    \n",
    "    return g"
   ]
  },
  {
   "cell_type": "code",
   "execution_count": 35,
   "id": "eb2bb9df",
   "metadata": {},
   "outputs": [
    {
     "name": "stdout",
     "output_type": "stream",
     "text": [
      "sigmoid(0) : 0.5\n"
     ]
    }
   ],
   "source": [
    "#sigmoid test\n",
    "print(f\"sigmoid(0) : {sigmoid(0)}\")"
   ]
  },
  {
   "cell_type": "code",
   "execution_count": 36,
   "id": "4e5dcf63",
   "metadata": {},
   "outputs": [
    {
     "name": "stdout",
     "output_type": "stream",
     "text": [
      "Sigmoid [-1, 0, 1, 2]: [0.2689414213699951, 0.5, 0.7310585786300049, 0.8807970779778823]\n",
      "\u001b[92mAll tests passed!\n"
     ]
    }
   ],
   "source": [
    "#sigmoid for an array\n",
    "print(f\"Sigmoid [-1, 0, 1, 2]: {sigmoid(np.array([-1,0,1,2])).tolist()}\")\n",
    "\n",
    "from public_tests import *\n",
    "sigmoid_test(sigmoid)"
   ]
  },
  {
   "cell_type": "markdown",
   "id": "76c14b30",
   "metadata": {},
   "source": [
    "# Cost function for logistic regression"
   ]
  },
  {
   "cell_type": "code",
   "execution_count": 37,
   "id": "410700eb",
   "metadata": {},
   "outputs": [],
   "source": [
    "#compute cost function for logistic regression\n",
    "def compute_cost(X, y, w, b, lambda_ = 1):\n",
    "    \n",
    "    m,n = X.shape\n",
    "    \n",
    "    total_cost = 0\n",
    "    \n",
    "    for i in range(m):\n",
    "        z = np.dot(w, X[i]) + b\n",
    "        g = sigmoid(z)\n",
    "        total_cost += (-y[i]*np.log(g)) - (1 - y[i])*np.log(1 - g)\n",
    "        \n",
    "    total_cost = total_cost / m\n",
    "    \n",
    "    \n",
    "    return total_cost"
   ]
  },
  {
   "cell_type": "code",
   "execution_count": 38,
   "id": "71f14920",
   "metadata": {},
   "outputs": [
    {
     "name": "stdout",
     "output_type": "stream",
     "text": [
      "Cost at initial w (zeros): 0.693\n"
     ]
    }
   ],
   "source": [
    "m,n = X_train.shape\n",
    "\n",
    "initial_w = np.zeros(n)\n",
    "initial_b = 0\n",
    "cost = compute_cost(X_train, y_train, initial_w, initial_b)\n",
    "print('Cost at initial w (zeros): {:.3f}'.format(cost))"
   ]
  },
  {
   "cell_type": "code",
   "execution_count": 39,
   "id": "a521e224",
   "metadata": {},
   "outputs": [
    {
     "name": "stdout",
     "output_type": "stream",
     "text": [
      "\u001b[92mAll tests passed!\n"
     ]
    }
   ],
   "source": [
    "compute_cost_test(compute_cost)"
   ]
  },
  {
   "cell_type": "markdown",
   "id": "d6d2ca68",
   "metadata": {},
   "source": [
    "# Gradient descent for logistic regression"
   ]
  },
  {
   "cell_type": "code",
   "execution_count": 40,
   "id": "eaad31c7",
   "metadata": {},
   "outputs": [],
   "source": [
    "#compute gradient\n",
    "def compute_gradient(X,y,w,b, lambda_ = None):\n",
    "    \n",
    "    m,n = X.shape\n",
    "    dj_dw = np.zeros(w.shape)\n",
    "    dj_db = 0\n",
    "    \n",
    "    \n",
    "    for i in range(m):\n",
    "        z_wb = np.dot(w, X[i]) + b\n",
    "        f_wb = sigmoid(z_wb)\n",
    "        \n",
    "        dj_db_i = f_wb - y[i]\n",
    "        dj_db += dj_db_i\n",
    "        \n",
    "        for j in range(n):\n",
    "            dj_dw_ij = (f_wb - y[i]) * X[i,j]\n",
    "            dj_dw[j] += dj_dw_ij\n",
    "            \n",
    "            \n",
    "    dj_dw = dj_dw/m\n",
    "    dj_db = dj_db/m\n",
    "    \n",
    "    return dj_db, dj_dw"
   ]
  },
  {
   "cell_type": "code",
   "execution_count": 41,
   "id": "10fbd3a9",
   "metadata": {},
   "outputs": [
    {
     "name": "stdout",
     "output_type": "stream",
     "text": [
      "dj_db at initial w (zeros) : -0.1\n",
      "dj_dw at initial w (zeros) : [-12.00921658929115, -11.262842205513591]\n"
     ]
    }
   ],
   "source": [
    "#compute gradient descent\n",
    "#testing gradient descent with zero values for w and b\n",
    "initial_w = np.zeros(n)\n",
    "initial_b = 0\n",
    "\n",
    "dj_db, dj_dw = compute_gradient(X_train, y_train, initial_w, initial_b)\n",
    "\n",
    "print(f\"dj_db at initial w (zeros) : {dj_db}\")\n",
    "print(f\"dj_dw at initial w (zeros) : {dj_dw.tolist()}\")"
   ]
  },
  {
   "cell_type": "code",
   "execution_count": 42,
   "id": "8bb82ce9",
   "metadata": {},
   "outputs": [
    {
     "name": "stdout",
     "output_type": "stream",
     "text": [
      "dj_db at test w : -0.5999999999991071\n",
      "dj_db at test w : [-44.831353617873795, -44.37384124953978]\n",
      "\u001b[92mAll tests passed!\n"
     ]
    }
   ],
   "source": [
    "#compute gradient descent for non-zero values for w and b\n",
    "test_w = np.array([0.2, -0.5])\n",
    "test_b = -24\n",
    "\n",
    "dj_db, dj_dw = compute_gradient(X_train, y_train, test_w, test_b)\n",
    "\n",
    "print(f\"dj_db at test w : {dj_db}\")\n",
    "print(f\"dj_db at test w : {dj_dw.tolist()}\")\n",
    "\n",
    "#unit testing\n",
    "compute_gradient_test(compute_gradient)"
   ]
  },
  {
   "cell_type": "markdown",
   "id": "34b9d6d7",
   "metadata": {},
   "source": [
    "# Learning parameters using gradient descent"
   ]
  },
  {
   "cell_type": "code",
   "execution_count": 43,
   "id": "b13d9bde",
   "metadata": {},
   "outputs": [],
   "source": [
    "def gradient_descent(X, y, w_in, b_in, cost_function, gradient_function, alpha, num_iters, lambda_):\n",
    "    \n",
    "    #number of training examples\n",
    "    m = len(X)\n",
    "    \n",
    "    #array to store J and w's values at each iteration \n",
    "    J_history = []\n",
    "    w_history = []\n",
    "    \n",
    "    for i in range(num_iters):\n",
    "        \n",
    "        #calculate the gradient and update the parameters\n",
    "        dj_db, dj_dw = gradient_function(X, y, w_in, b_in, lambda_)\n",
    "        \n",
    "        #update parameters of w and b using gradient descent \n",
    "        w_in = w_in - alpha * dj_dw\n",
    "        b_in = b_in - alpha * dj_db\n",
    "        \n",
    "        \n",
    "        #Save cost J at each iteration\n",
    "        if i < 100000:\n",
    "            cost = cost_function(X, y, w_in, b_in, lambda_)\n",
    "            J_history.append(cost)\n",
    "            \n",
    "            \n",
    "        #print cost at every 10 intervals\n",
    "        if i% math.ceil(num_iters/10) == 0 or i == (num_iters - 1):\n",
    "            w_history.append(w_in)\n",
    "            print(f\"Iteration {i:4}: Cost {float(J_history[-1]):8.2f} \")\n",
    "            \n",
    "    return w_in, b_in, J_history, w_history"
   ]
  },
  {
   "cell_type": "code",
   "execution_count": 44,
   "id": "ed4f0fe9",
   "metadata": {},
   "outputs": [
    {
     "name": "stdout",
     "output_type": "stream",
     "text": [
      "shape of X: (100, 2)\n",
      "Shape of w : (2,)\n",
      "Iteration    0: Cost     0.96 \n",
      "Iteration 10000: Cost     0.30 \n",
      "Iteration 20000: Cost     0.30 \n",
      "Iteration 30000: Cost     0.30 \n",
      "Iteration 40000: Cost     0.29 \n",
      "Iteration 50000: Cost     0.29 \n",
      "Iteration 60000: Cost     0.29 \n",
      "Iteration 70000: Cost     0.28 \n",
      "Iteration 80000: Cost     0.28 \n",
      "Iteration 90000: Cost     0.28 \n",
      "Iteration 99999: Cost     0.28 \n"
     ]
    }
   ],
   "source": [
    "print(f\"shape of X: {X_train.shape}\")\n",
    "\n",
    "\n",
    "np.random.seed(1)\n",
    "initial_w = 0.01 * (np.random.rand(2).reshape(n) - 0.5)\n",
    "initial_b = -8\n",
    "\n",
    "print(f\"Shape of w : {initial_w.shape}\")\n",
    "#some gradient descent settings\n",
    "iterations = 100000\n",
    "alpha = 0.001\n",
    "\n",
    "w,b,J_history,_ = gradient_descent(X_train, y_train, initial_w, initial_b, compute_cost, compute_gradient,\n",
    "                                  alpha, iterations, 0)"
   ]
  },
  {
   "cell_type": "code",
   "execution_count": 45,
   "id": "b9a57893",
   "metadata": {},
   "outputs": [
    {
     "data": {
      "image/png": "[encoded data removed]",
      "text/plain": [
       "<Figure size 640x480 with 1 Axes>"
      ]
     },
     "metadata": {},
     "output_type": "display_data"
    }
   ],
   "source": [
    "#plot the decision boundary\n",
    "plot_decision_boundary(w, b, X_train, y_train)"
   ]
  },
  {
   "cell_type": "code",
   "execution_count": 46,
   "id": "12f36d83",
   "metadata": {},
   "outputs": [],
   "source": [
    "#predict 0 or 1 on the given dataset\n",
    "#if f(x(i)) >= 0.5 ; y(i) = 1\n",
    "#if f(x(i)) < 0.5 ; y(i) = 0\n",
    "\n",
    "def predict(X, w, b):\n",
    "    \n",
    "    m,n = X.shape\n",
    "    p = np.zeros(m)\n",
    "    \n",
    "    for i in range(m):\n",
    "        z_wb = 0\n",
    "        \n",
    "        for j in range(n):\n",
    "            z_wb += X[i,j] * w[j]\n",
    "            \n",
    "            \n",
    "        #adding a bias term\n",
    "        z_wb += b\n",
    "        \n",
    "        #make prediction\n",
    "        f_wb = sigmoid(z_wb)\n",
    "        \n",
    "        #apply threshold\n",
    "        p[i] = f_wb >= 0.5\n",
    "        \n",
    "    return p"
   ]
  },
  {
   "cell_type": "code",
   "execution_count": 47,
   "id": "977d4fbf",
   "metadata": {},
   "outputs": [
    {
     "name": "stdout",
     "output_type": "stream",
     "text": [
      "Output of predict: shape (4,), value [0. 1. 1. 1.]\n",
      "\u001b[92mAll tests passed!\n"
     ]
    }
   ],
   "source": [
    "#testing the prediction\n",
    "np.random.seed(1)\n",
    "tmp_w = np.random.randn(2)\n",
    "tmp_b = 0.3\n",
    "tmp_X = np.random.randn(4,2) - 0.5\n",
    "\n",
    "tmp_p = predict(tmp_X, tmp_w, tmp_b)\n",
    "\n",
    "#output\n",
    "print(f\"Output of predict: shape {tmp_p.shape}, value {tmp_p}\")\n",
    "\n",
    "#testing the function\n",
    "predict_test(predict)"
   ]
  },
  {
   "cell_type": "code",
   "execution_count": 48,
   "id": "1b489d91",
   "metadata": {},
   "outputs": [
    {
     "name": "stdout",
     "output_type": "stream",
     "text": [
      "Train accuracy: 91.0\n"
     ]
    }
   ],
   "source": [
    "#compute accuracy on the training set\n",
    "\n",
    "p = predict(X_train, w, b)\n",
    "print(f\"Train accuracy: {np.mean(p == y_train)*100}\")"
   ]
  },
  {
   "cell_type": "markdown",
   "id": "dc7d4b35",
   "metadata": {},
   "source": [
    "# Regularized Logistic Regression"
   ]
  },
  {
   "cell_type": "code",
   "execution_count": 49,
   "id": "749b509f",
   "metadata": {},
   "outputs": [],
   "source": [
    "#Load the dataset\n",
    "X_train, y_train = load_data('ex2data2.txt')"
   ]
  },
  {
   "cell_type": "code",
   "execution_count": 52,
   "id": "4ba9f793",
   "metadata": {},
   "outputs": [
    {
     "name": "stdout",
     "output_type": "stream",
     "text": [
      "X_train : [[ 0.051267  0.69956 ]\n",
      " [-0.092742  0.68494 ]\n",
      " [-0.21371   0.69225 ]\n",
      " [-0.375     0.50219 ]\n",
      " [-0.51325   0.46564 ]]\n",
      "Type of X_train: <class 'numpy.ndarray'>\n",
      "Y_train : [1. 1. 1. 1. 1.]\n",
      "Type of y_train : [1. 1. 1. 1. 1.]\n"
     ]
    }
   ],
   "source": [
    "#print X train\n",
    "print(f\"X_train : {X_train[:5]}\")\n",
    "print(f\"Type of X_train: {type(X_train)}\")\n",
    "\n",
    "#print y_train\n",
    "print(f\"Y_train : {y_train[:5]}\")\n",
    "print(f\"Type of y_train : {y_train[:5]}\")"
   ]
  },
  {
   "cell_type": "code",
   "execution_count": 53,
   "id": "ae63b185",
   "metadata": {},
   "outputs": [
    {
     "name": "stdout",
     "output_type": "stream",
     "text": [
      "Shape of X_train is : (118, 2)\n",
      "Shape of y_train is : (118,)\n",
      "Number of training examples : 118\n"
     ]
    }
   ],
   "source": [
    "print(f\"Shape of X_train is : {X_train.shape}\")\n",
    "print(f\"Shape of y_train is : {y_train.shape}\")\n",
    "print(f\"Number of training examples : {len(y_train)}\")"
   ]
  },
  {
   "cell_type": "code",
   "execution_count": 55,
   "id": "009c9b2e",
   "metadata": {},
   "outputs": [
    {
     "data": {
      "image/png": "[encoded data removed]",
      "text/plain": [
       "<Figure size 640x480 with 1 Axes>"
      ]
     },
     "metadata": {},
     "output_type": "display_data"
    }
   ],
   "source": [
    "plot_data(X_train, y_train[:], pos_label = \"Accepted\", neg_label = \"Rejected\")\n",
    "\n",
    "#set y axis label\n",
    "plt.ylabel(\"Microchip Test 2\")\n",
    "plt.xlabel(\"Microchip Test 1\")\n",
    "plt.legend(loc = \"upper right\")\n",
    "plt.show()"
   ]
  },
  {
   "cell_type": "markdown",
   "id": "ddbe5579",
   "metadata": {},
   "source": [
    "# Feature mapping"
   ]
  },
  {
   "cell_type": "code",
   "execution_count": 59,
   "id": "4b0071ae",
   "metadata": {},
   "outputs": [
    {
     "name": "stdout",
     "output_type": "stream",
     "text": [
      "X_train shape is : (118, 2)\n",
      "Shape after mapping is : (118, 27)\n"
     ]
    }
   ],
   "source": [
    "#shape of original X_train is \n",
    "print(f\"X_train shape is : {X_train.shape}\")\n",
    "\n",
    "#there are two columns\n",
    "mapped_X = map_feature(X_train[:,0], X_train[:,1])\n",
    "print(f\"Shape after mapping is : {mapped_X.shape}\")"
   ]
  },
  {
   "cell_type": "code",
   "execution_count": 62,
   "id": "90bd4e14",
   "metadata": {},
   "outputs": [
    {
     "name": "stdout",
     "output_type": "stream",
     "text": [
      "X_train[0] : [0.051267 0.69956 ]\n",
      "mapped X_train[0] is [5.12670000e-02 6.99560000e-01 2.62830529e-03 3.58643425e-02\n",
      " 4.89384194e-01 1.34745327e-04 1.83865725e-03 2.50892595e-02\n",
      " 3.42353606e-01 6.90798869e-06 9.42624411e-05 1.28625106e-03\n",
      " 1.75514423e-02 2.39496889e-01 3.54151856e-07 4.83255257e-06\n",
      " 6.59422333e-05 8.99809795e-04 1.22782870e-02 1.67542444e-01\n",
      " 1.81563032e-08 2.47750473e-07 3.38066048e-06 4.61305487e-05\n",
      " 6.29470940e-04 8.58939846e-03 1.17205992e-01]\n"
     ]
    }
   ],
   "source": [
    "print(f\"X_train[0] : {X_train[0]}\")\n",
    "print(f\"mapped X_train[0] is {mapped_X[0]}\")"
   ]
  },
  {
   "cell_type": "markdown",
   "id": "6dc4f521",
   "metadata": {},
   "source": [
    "# Cost function for regularized logistic regression"
   ]
  },
  {
   "cell_type": "code",
   "execution_count": 68,
   "id": "4b5625ba",
   "metadata": {},
   "outputs": [],
   "source": [
    "def compute_cost_reg(X, y, w, b, lambda_):\n",
    "    \n",
    "    m, n = X.shape\n",
    "    \n",
    "    cost_without_reg = compute_cost(X, y, w, b)\n",
    "    \n",
    "    reg_cost = 0\n",
    "    \n",
    "    for j in range(n):\n",
    "        reg_cost_j = w[j]**2\n",
    "        reg_cost += reg_cost_j\n",
    "        \n",
    "    total_cost = cost_without_reg + (lambda_/(2*m)) * reg_cost\n",
    "    \n",
    "    return total_cost"
   ]
  },
  {
   "cell_type": "code",
   "execution_count": 69,
   "id": "0cf37057",
   "metadata": {},
   "outputs": [
    {
     "name": "stdout",
     "output_type": "stream",
     "text": [
      "Regularized cost:  0.6618252552483948\n"
     ]
    }
   ],
   "source": [
    "#check the implementation of compute_cost_regabs\n",
    "\n",
    "X_mapped = map_feature(X_train[:,0], X_train[:,1])\n",
    "np.random.seed(1)\n",
    "initial_w = np.random.rand(X_mapped.shape[1]) - 0.5\n",
    "initial_b = 0.5\n",
    "lambda_ = 0.5\n",
    "cost = compute_cost_reg(X_mapped, y_train, initial_w, initial_b, lambda_)\n",
    "\n",
    "print(\"Regularized cost: \", cost)\n",
    "\n",
    "#unit testing\n",
    "compute_cost_reg_test"
   ]
  }
 ],
 "metadata": {
  "kernelspec": {
   "display_name": "Python 3 (ipykernel)",
   "language": "python",
   "name": "python3"
  },
  "language_info": {
   "codemirror_mode": {
    "name": "ipython",
    "version": 3
   },
   "file_extension": ".py",
   "mimetype": "text/x-python",
   "name": "python",
   "nbconvert_exporter": "python",
   "pygments_lexer": "ipython3",
   "version": "3.11.5"
  }
 },
 "nbformat": 4,
 "nbformat_minor": 5
}
