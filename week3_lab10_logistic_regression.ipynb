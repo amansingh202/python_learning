{
 "cells": [
  {
   "cell_type": "markdown",
   "id": "104289d1",
   "metadata": {},
   "source": [
    "# Logistic Regression\n",
    "Logistic regression with different data sets"
   ]
  },
  {
   "cell_type": "code",
   "execution_count": 24,
   "id": "db22f35d",
   "metadata": {},
   "outputs": [],
   "source": [
    "import numpy as np\n",
    "import matplotlib.pyplot as plt\n",
    "from utils import *\n",
    "import copy\n",
    "import math\n",
    "\n",
    "%matplotlib inline"
   ]
  },
  {
   "cell_type": "markdown",
   "id": "2e4ade91",
   "metadata": {},
   "source": [
    "Loading the dataset "
   ]
  },
  {
   "cell_type": "code",
   "execution_count": 25,
   "id": "90243c62",
   "metadata": {},
   "outputs": [],
   "source": [
    "X_train, y_train = load_data('ex2data1.txt')\n"
   ]
  },
  {
   "cell_type": "code",
   "execution_count": 26,
   "id": "76914368",
   "metadata": {},
   "outputs": [
    {
     "name": "stdout",
     "output_type": "stream",
     "text": [
      "First five elements are : \n",
      " [[34.62365962 78.02469282]\n",
      " [30.28671077 43.89499752]\n",
      " [35.84740877 72.90219803]\n",
      " [60.18259939 86.3085521 ]\n",
      " [79.03273605 75.34437644]]\n",
      "Type of X_train : <class 'numpy.ndarray'>\n",
      "Shape of X_train is : (100, 2)\n"
     ]
    }
   ],
   "source": [
    "#first five elements is \n",
    "print(f\"First five elements are : \\n {X_train[:5]}\")\n",
    "print(f\"Type of X_train : {type(X_train)}\")\n",
    "print(f\"Shape of X_train is : {X_train.shape}\")"
   ]
  },
  {
   "cell_type": "code",
   "execution_count": 27,
   "id": "3f74c9bc",
   "metadata": {},
   "outputs": [
    {
     "name": "stdout",
     "output_type": "stream",
     "text": [
      "First 5 values in y are: [0. 0. 0. 1. 1.]\n",
      "Type of y_train is : <class 'numpy.ndarray'>\n"
     ]
    }
   ],
   "source": [
    "#first five elements in y are\n",
    "\n",
    "print(f\"First 5 values in y are: {y_train[:5]}\")\n",
    "print(f\"Type of y_train is : {type(y_train)}\")"
   ]
  },
  {
   "cell_type": "code",
   "execution_count": 28,
   "id": "a8ea3640",
   "metadata": {},
   "outputs": [
    {
     "name": "stdout",
     "output_type": "stream",
     "text": [
      "Shape of X_train is : (100, 2)\n",
      "Shape of y_train is : (100,)\n",
      "Number of training examples : 100\n"
     ]
    }
   ],
   "source": [
    "print(f\"Shape of X_train is : {X_train.shape}\")\n",
    "print(f\"Shape of y_train is : {y_train.shape}\")\n",
    "print(f\"Number of training examples : {len(y_train)}\")"
   ]
  },
  {
   "cell_type": "markdown",
   "id": "45dbd539",
   "metadata": {},
   "source": [
    "# Visualizing the data"
   ]
  },
  {
   "cell_type": "code",
   "execution_count": 29,
   "id": "416166a8",
   "metadata": {},
   "outputs": [
    {
     "data": {
      "image/png": "[encoded data removed]",
      "text/plain": [
       "<Figure size 640x480 with 1 Axes>"
      ]
     },
     "metadata": {},
     "output_type": "display_data"
    }
   ],
   "source": [
    "#plotting examples\n",
    "plot_data(X_train, y_train, pos_label=\"Admitted\", neg_label= \"Not Admitted\")\n",
    "\n",
    "#set y label\n",
    "plt.ylabel('Exam 2 Score')\n",
    "plt.xlabel('Exam 1 Score')\n",
    "plt.legend(loc = \"upper right\")\n",
    "plt.show()"
   ]
  },
  {
   "cell_type": "markdown",
   "id": "44458b18",
   "metadata": {},
   "source": [
    "Sigmoid Function definition"
   ]
  },
  {
   "cell_type": "code",
   "execution_count": 30,
   "id": "9a3b71cc",
   "metadata": {},
   "outputs": [],
   "source": [
    "#function for sigmoid function\n",
    "def sigmoid(z):\n",
    "    g = 1/ (1 + np.exp(-z))\n",
    "    \n",
    "    return g"
   ]
  },
  {
   "cell_type": "code",
   "execution_count": 31,
   "id": "eb2bb9df",
   "metadata": {},
   "outputs": [
    {
     "name": "stdout",
     "output_type": "stream",
     "text": [
      "sigmoid(0) : 0.5\n"
     ]
    }
   ],
   "source": [
    "#sigmoid test\n",
    "print(f\"sigmoid(0) : {sigmoid(0)}\")"
   ]
  },
  {
   "cell_type": "code",
   "execution_count": 32,
   "id": "4e5dcf63",
   "metadata": {},
   "outputs": [
    {
     "name": "stdout",
     "output_type": "stream",
     "text": [
      "Sigmoid [-1, 0, 1, 2]: [0.2689414213699951, 0.5, 0.7310585786300049, 0.8807970779778823]\n",
      "\u001b[92mAll tests passed!\n"
     ]
    }
   ],
   "source": [
    "#sigmoid for an array\n",
    "print(f\"Sigmoid [-1, 0, 1, 2]: {sigmoid(np.array([-1,0,1,2])).tolist()}\")\n",
    "\n",
    "from public_tests import *\n",
    "sigmoid_test(sigmoid)"
   ]
  },
  {
   "cell_type": "markdown",
   "id": "76c14b30",
   "metadata": {},
   "source": [
    "# Cost function for logistic regression"
   ]
  },
  {
   "cell_type": "code",
   "execution_count": 33,
   "id": "410700eb",
   "metadata": {},
   "outputs": [],
   "source": [
    "#compute cost function for logistic regression\n",
    "def compute_cost(X, y, w, b, lambda_ = 1):\n",
    "    \n",
    "    m,n = X.shape\n",
    "    \n",
    "    total_cost = 0\n",
    "    \n",
    "    for i in range(m):\n",
    "        z = np.dot(w, X[i]) + b\n",
    "        g = sigmoid(z)\n",
    "        total_cost += (-y[i]*np.log(g)) - (1 - y[i])*np.log(1 - g)\n",
    "        \n",
    "    total_cost = total_cost / m\n",
    "    \n",
    "    \n",
    "    return total_cost"
   ]
  },
  {
   "cell_type": "code",
   "execution_count": 34,
   "id": "71f14920",
   "metadata": {},
   "outputs": [
    {
     "name": "stdout",
     "output_type": "stream",
     "text": [
      "Cost at initial w (zeros): 0.693\n"
     ]
    }
   ],
   "source": [
    "m,n = X_train.shape\n",
    "\n",
    "initial_w = np.zeros(n)\n",
    "initial_b = 0\n",
    "cost = compute_cost(X_train, y_train, initial_w, initial_b)\n",
    "print('Cost at initial w (zeros): {:.3f}'.format(cost))"
   ]
  },
  {
   "cell_type": "code",
   "execution_count": 35,
   "id": "a521e224",
   "metadata": {},
   "outputs": [
    {
     "name": "stdout",
     "output_type": "stream",
     "text": [
      "\u001b[92mAll tests passed!\n"
     ]
    }
   ],
   "source": [
    "compute_cost_test(compute_cost)"
   ]
  },
  {
   "cell_type": "markdown",
   "id": "d6d2ca68",
   "metadata": {},
   "source": [
    "# Gradient descent for logistic regression"
   ]
  },
  {
   "cell_type": "code",
   "execution_count": 36,
   "id": "eaad31c7",
   "metadata": {},
   "outputs": [],
   "source": [
    "#compute gradient\n",
    "def compute_gradient(X,y,w,b, lambda_ = None):\n",
    "    \n",
    "    m,n = X.shape\n",
    "    dj_dw = np.zeros(w.shape)\n",
    "    dj_db = 0\n",
    "    \n",
    "    \n",
    "    for i in range(m):\n",
    "        z_wb = np.dot(w, X[i]) + b\n",
    "        f_wb = sigmoid(z_wb)\n",
    "        \n",
    "        dj_db_i = f_wb - y[i]\n",
    "        dj_db += dj_db_i\n",
    "        \n",
    "        for j in range(n):\n",
    "            dj_dw_ij = (f_wb - y[i]) * X[i,j]\n",
    "            dj_dw[j] += dj_dw_ij\n",
    "            \n",
    "            \n",
    "    dj_dw = dj_dw/m\n",
    "    dj_db = dj_db/m\n",
    "    \n",
    "    return dj_db, dj_dw"
   ]
  },
  {
   "cell_type": "code",
   "execution_count": 37,
   "id": "10fbd3a9",
   "metadata": {},
   "outputs": [
    {
     "name": "stdout",
     "output_type": "stream",
     "text": [
      "dj_db at initial w (zeros) : -0.1\n",
      "dj_dw at initial w (zeros) : [-12.00921658929115, -11.262842205513591]\n"
     ]
    }
   ],
   "source": [
    "#compute gradient descent\n",
    "#testing gradient descent with zero values for w and b\n",
    "initial_w = np.zeros(n)\n",
    "initial_b = 0\n",
    "\n",
    "dj_db, dj_dw = compute_gradient(X_train, y_train, initial_w, initial_b)\n",
    "\n",
    "print(f\"dj_db at initial w (zeros) : {dj_db}\")\n",
    "print(f\"dj_dw at initial w (zeros) : {dj_dw.tolist()}\")"
   ]
  },
  {
   "cell_type": "code",
   "execution_count": 38,
   "id": "8bb82ce9",
   "metadata": {},
   "outputs": [
    {
     "name": "stdout",
     "output_type": "stream",
     "text": [
      "dj_db at test w : -0.5999999999991071\n",
      "dj_db at test w : [-44.831353617873795, -44.37384124953978]\n",
      "\u001b[92mAll tests passed!\n"
     ]
    }
   ],
   "source": [
    "#compute gradient descent for non-zero values for w and b\n",
    "test_w = np.array([0.2, -0.5])\n",
    "test_b = -24\n",
    "\n",
    "dj_db, dj_dw = compute_gradient(X_train, y_train, test_w, test_b)\n",
    "\n",
    "print(f\"dj_db at test w : {dj_db}\")\n",
    "print(f\"dj_db at test w : {dj_dw.tolist()}\")\n",
    "\n",
    "#unit testing\n",
    "compute_gradient_test(compute_gradient)"
   ]
  },
  {
   "cell_type": "markdown",
   "id": "34b9d6d7",
   "metadata": {},
   "source": [
    "# Learning parameters using gradient descent"
   ]
  },
  {
   "cell_type": "code",
   "execution_count": 39,
   "id": "b13d9bde",
   "metadata": {},
   "outputs": [],
   "source": [
    "def gradient_descent(X, y, w_in, b_in, cost_function, gradient_function, alpha, num_iters, lambda_):\n",
    "    \n",
    "    #number of training examples\n",
    "    m = len(X)\n",
    "    \n",
    "    #array to store J and w's values at each iteration \n",
    "    J_history = []\n",
    "    w_history = []\n",
    "    \n",
    "    for i in range(num_iters):\n",
    "        \n",
    "        #calculate the gradient and update the parameters\n",
    "        dj_db, dj_dw = gradient_function(X, y, w_in, b_in, lambda_)\n",
    "        \n",
    "        #update parameters of w and b using gradient descent \n",
    "        w_in = w_in - alpha * dj_dw\n",
    "        b_in = b_in - alpha * dj_db\n",
    "        \n",
    "        \n",
    "        #Save cost J at each iteration\n",
    "        if i < 100000:\n",
    "            cost = cost_function(X, y, w_in, b_in, lambda_)\n",
    "            J_history.append(cost)\n",
    "            \n",
    "            \n",
    "        #print cost at every 10 intervals\n",
    "        if i% math.ceil(num_iters/10) == 0 or i == (num_iters - 1):\n",
    "            w_history.append(w_in)\n",
    "            print(f\"Iteration {i:4}: Cost {float(J_history[-1]):8.2f} \")\n",
    "            \n",
    "    return w_in, b_in, J_history, w_history"
   ]
  },
  {
   "cell_type": "code",
   "execution_count": 44,
   "id": "ed4f0fe9",
   "metadata": {},
   "outputs": [
    {
     "name": "stdout",
     "output_type": "stream",
     "text": [
      "shape of X: (100, 2)\n",
      "Shape of w : (2,)\n",
      "Iteration    0: Cost     0.96 \n",
      "Iteration 10000: Cost     0.30 \n",
      "Iteration 20000: Cost     0.30 \n",
      "Iteration 30000: Cost     0.30 \n",
      "Iteration 40000: Cost     0.29 \n",
      "Iteration 50000: Cost     0.29 \n",
      "Iteration 60000: Cost     0.29 \n",
      "Iteration 70000: Cost     0.28 \n",
      "Iteration 80000: Cost     0.28 \n",
      "Iteration 90000: Cost     0.28 \n",
      "Iteration 99999: Cost     0.28 \n"
     ]
    }
   ],
   "source": [
    "print(f\"shape of X: {X_train.shape}\")\n",
    "\n",
    "\n",
    "np.random.seed(1)\n",
    "initial_w = 0.01 * (np.random.rand(2).reshape(n) - 0.5)\n",
    "initial_b = -8\n",
    "\n",
    "print(f\"Shape of w : {initial_w.shape}\")\n",
    "#some gradient descent settings\n",
    "iterations = 100000\n",
    "alpha = 0.001\n",
    "\n",
    "w,b,J_history,_ = gradient_descent(X_train, y_train, initial_w, initial_b, compute_cost, compute_gradient,\n",
    "                                  alpha, iterations, 0)"
   ]
  },
  {
   "cell_type": "code",
   "execution_count": null,
   "id": "b9a57893",
   "metadata": {},
   "outputs": [],
   "source": []
  }
 ],
 "metadata": {
  "kernelspec": {
   "display_name": "Python 3 (ipykernel)",
   "language": "python",
   "name": "python3"
  },
  "language_info": {
   "codemirror_mode": {
    "name": "ipython",
    "version": 3
   },
   "file_extension": ".py",
   "mimetype": "text/x-python",
   "name": "python",
   "nbconvert_exporter": "python",
   "pygments_lexer": "ipython3",
   "version": "3.11.5"
  }
 },
 "nbformat": 4,
 "nbformat_minor": 5
}
