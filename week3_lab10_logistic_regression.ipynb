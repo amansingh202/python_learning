{
 "cells": [
  {
   "cell_type": "markdown",
   "id": "a700ad49",
   "metadata": {},
   "source": [
    "# Logistic Regression\n",
    "Logistic regression with different data sets"
   ]
  },
  {
   "cell_type": "code",
   "execution_count": 2,
   "id": "4b84a469",
   "metadata": {},
   "outputs": [],
   "source": [
    "import numpy as np\n",
    "import matplotlib.pyplot as plt\n",
    "from utils import *\n",
    "import copy\n",
    "import math\n",
    "\n",
    "%matplotlib inline"
   ]
  },
  {
   "cell_type": "markdown",
   "id": "3f6fa0c0",
   "metadata": {},
   "source": [
    "Loading the dataset "
   ]
  },
  {
   "cell_type": "code",
   "execution_count": 6,
   "id": "c35ca5dd",
   "metadata": {},
   "outputs": [],
   "source": [
    "X_train, y_train = load_data('ex2data1.txt')\n"
   ]
  },
  {
   "cell_type": "code",
   "execution_count": 15,
   "id": "c3301709",
   "metadata": {},
   "outputs": [
    {
     "name": "stdout",
     "output_type": "stream",
     "text": [
      "First five elements are : \n",
      " [[34.62365962 78.02469282]\n",
      " [30.28671077 43.89499752]\n",
      " [35.84740877 72.90219803]\n",
      " [60.18259939 86.3085521 ]\n",
      " [79.03273605 75.34437644]]\n",
      "Type of X_train : <class 'numpy.ndarray'>\n",
      "Shape of X_train is : (100, 2)\n"
     ]
    }
   ],
   "source": [
    "#first five elements is \n",
    "print(f\"First five elements are : \\n {X_train[:5]}\")\n",
    "print(f\"Type of X_train : {type(X_train)}\")\n",
    "print(f\"Shape of X_train is : {X_train.shape}\")"
   ]
  },
  {
   "cell_type": "code",
   "execution_count": 17,
   "id": "40a5942a",
   "metadata": {},
   "outputs": [
    {
     "name": "stdout",
     "output_type": "stream",
     "text": [
      "First 5 values in y are: [0. 0. 0. 1. 1.]\n",
      "Type of y_train is : <class 'numpy.ndarray'>\n"
     ]
    }
   ],
   "source": [
    "#first five elements in y are\n",
    "\n",
    "print(f\"First 5 values in y are: {y_train[:5]}\")\n",
    "print(f\"Type of y_train is : {type(y_train)}\")"
   ]
  },
  {
   "cell_type": "code",
   "execution_count": null,
   "id": "d6f8a056",
   "metadata": {},
   "outputs": [],
   "source": [
    "print(f\"Shape of X_train is : {X_train.shape}\")\n",
    "print(f\"Shape of y_train is : {y_train.shape}\")\n",
    "print(f\"Number\")"
   ]
  }
 ],
 "metadata": {
  "kernelspec": {
   "display_name": "Python 3 (ipykernel)",
   "language": "python",
   "name": "python3"
  },
  "language_info": {
   "codemirror_mode": {
    "name": "ipython",
    "version": 3
   },
   "file_extension": ".py",
   "mimetype": "text/x-python",
   "name": "python",
   "nbconvert_exporter": "python",
   "pygments_lexer": "ipython3",
   "version": "3.11.5"
  }
 },
 "nbformat": 4,
 "nbformat_minor": 5
}
