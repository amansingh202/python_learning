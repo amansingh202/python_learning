{
 "cells": [
  {
   "cell_type": "code",
   "execution_count": 1,
   "id": "7db8dc27",
   "metadata": {},
   "outputs": [],
   "source": [
    "#plot the decision boundary of a logistic regression\n",
    "import numpy as np\n",
    "%matplotlib widget\n",
    "import matplotlib.pyplot as plt\n",
    "from lab_utils_common import plot_data, sigmoid, draw_vthresh\n",
    "plt.style.use('./deeplearning.mplstyle')"
   ]
  },
  {
   "cell_type": "code",
   "execution_count": null,
   "id": "9a72f446",
   "metadata": {},
   "outputs": [],
   "source": [
    "X = np.array([[0.5, 1.5],[1,1],[1.5, 0.5],[3,0]])"
   ]
  }
 ],
 "metadata": {
  "kernelspec": {
   "display_name": "Python 3 (ipykernel)",
   "language": "python",
   "name": "python3"
  },
  "language_info": {
   "codemirror_mode": {
    "name": "ipython",
    "version": 3
   },
   "file_extension": ".py",
   "mimetype": "text/x-python",
   "name": "python",
   "nbconvert_exporter": "python",
   "pygments_lexer": "ipython3",
   "version": "3.11.5"
  }
 },
 "nbformat": 4,
 "nbformat_minor": 5
}
