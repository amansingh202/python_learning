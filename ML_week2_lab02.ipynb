{
 "cells": [
  {
   "cell_type": "markdown",
   "id": "d8d58157",
   "metadata": {},
   "source": [
    "# Multiple Linear Regression"
   ]
  },
  {
   "cell_type": "code",
   "execution_count": 1,
   "id": "1a965488",
   "metadata": {},
   "outputs": [
    {
     "data": {
      "text/plain": [
       "'To support multiple input features\\nBefore we have seen only one input feature\\nThis time we are going to take a look at multiple features\\nUsing numpy '"
      ]
     },
     "execution_count": 1,
     "metadata": {},
     "output_type": "execute_result"
    }
   ],
   "source": [
    "'''To support multiple input features\n",
    "Before we have seen only one input feature\n",
    "This time we are going to take a look at multiple features\n",
    "Using numpy '''"
   ]
  },
  {
   "cell_type": "code",
   "execution_count": 2,
   "id": "dc11cdae",
   "metadata": {},
   "outputs": [],
   "source": [
    "#numpy and matplot library is going to be used \n",
    "import numpy as np\n",
    "import matplotlib.pyplot as plt\n",
    "plt.style.use('./deeplearning.mplstyle')\n",
    "\n",
    "#reduced display precion on numpy arrays\n",
    "np.set_printoptions(precision = 2)"
   ]
  },
  {
   "cell_type": "code",
   "execution_count": 4,
   "id": "97c6cf37",
   "metadata": {
    "scrolled": true
   },
   "outputs": [],
   "source": [
    "#create a problem statement table\n",
    "X_train = np.array([[2104,5,1,45], [1416,3,2,40], [852,2,1,35]])\n",
    "y_train = np.array([460, 232, 178])"
   ]
  },
  {
   "cell_type": "code",
   "execution_count": null,
   "id": "4b018b78",
   "metadata": {},
   "outputs": [],
   "source": [
    "#here X is the vector containing input data samples\n",
    "#here y_train is the output values in our training data set\n",
    "\n",
    "#shape of X and y is\n",
    "print(f\"Shape of X is: {X_train.shape} and X_train is : {}\")"
   ]
  }
 ],
 "metadata": {
  "kernelspec": {
   "display_name": "Python 3 (ipykernel)",
   "language": "python",
   "name": "python3"
  },
  "language_info": {
   "codemirror_mode": {
    "name": "ipython",
    "version": 3
   },
   "file_extension": ".py",
   "mimetype": "text/x-python",
   "name": "python",
   "nbconvert_exporter": "python",
   "pygments_lexer": "ipython3",
   "version": "3.11.5"
  }
 },
 "nbformat": 4,
 "nbformat_minor": 5
}
