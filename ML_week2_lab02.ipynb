{
 "cells": [
  {
   "cell_type": "markdown",
   "id": "e96b82ec",
   "metadata": {},
   "source": [
    "# Multiple Linear Regression"
   ]
  },
  {
   "cell_type": "code",
   "execution_count": 61,
   "id": "192defda",
   "metadata": {},
   "outputs": [
    {
     "data": {
      "text/plain": [
       "'To support multiple input features\\nBefore we have seen only one input feature\\nThis time we are going to take a look at multiple features\\nUsing numpy '"
      ]
     },
     "execution_count": 61,
     "metadata": {},
     "output_type": "execute_result"
    }
   ],
   "source": [
    "'''To support multiple input features\n",
    "Before we have seen only one input feature\n",
    "This time we are going to take a look at multiple features\n",
    "Using numpy '''"
   ]
  },
  {
   "cell_type": "code",
   "execution_count": 62,
   "id": "148473eb",
   "metadata": {},
   "outputs": [],
   "source": [
    "#numpy and matplot library is going to be used \n",
    "import numpy as np\n",
    "import matplotlib.pyplot as plt\n",
    "plt.style.use('./deeplearning.mplstyle')\n",
    "\n",
    "#reduced display precion on numpy arrays\n",
    "np.set_printoptions(precision = 2)"
   ]
  },
  {
   "cell_type": "code",
   "execution_count": 63,
   "id": "e2ac7f6c",
   "metadata": {
    "scrolled": true
   },
   "outputs": [],
   "source": [
    "#create a problem statement table\n",
    "#here it has 4 features \n",
    "#size in sq ft, # bedrooms, # floors and age of home\n",
    "X_train = np.array([[2104,5,1,45], [1416,3,2,40], [852,2,1,35]])\n",
    "y_train = np.array([460, 232, 178])"
   ]
  },
  {
   "cell_type": "code",
   "execution_count": 64,
   "id": "47fe4aa5",
   "metadata": {},
   "outputs": [
    {
     "name": "stdout",
     "output_type": "stream",
     "text": [
      "Shape of X is: (3, 4), type of X_train is: <class 'numpy.ndarray'> and \n",
      "X_train is : \n",
      "[[2104    5    1   45]\n",
      " [1416    3    2   40]\n",
      " [ 852    2    1   35]]\n"
     ]
    }
   ],
   "source": [
    "#here X is the vector containing input data samples\n",
    "#here y_train is the output values in our training data set\n",
    "\n",
    "#shape of X and y is\n",
    "print(f\"Shape of X is: {X_train.shape}, type of X_train is: {type(X_train)} and \\nX_train is : \\n{X_train}\")"
   ]
  },
  {
   "cell_type": "code",
   "execution_count": 65,
   "id": "2ae49a00",
   "metadata": {},
   "outputs": [
    {
     "name": "stdout",
     "output_type": "stream",
     "text": [
      "w_init shape is: (4,) and its type is <class 'numpy.ndarray'>, and b_init type: <class 'float'>\n"
     ]
    }
   ],
   "source": [
    "#parameters w1, w2, w3 and w4 based on the features\n",
    "#b is the scalar parameter\n",
    "b_init = 785.1811367994083\n",
    "w_init = np.array([0.39133535, 18.75376741, -53.36032453, -26.42131618])\n",
    "\n",
    "print(f\"w_init shape is: {w_init.shape} and its type is {type(w_init)}, and b_init type: {type(b_init)}\")"
   ]
  },
  {
   "cell_type": "code",
   "execution_count": 66,
   "id": "deea682e",
   "metadata": {},
   "outputs": [],
   "source": [
    "#prediction element by element when there is multiple features\n",
    "def predict_single_loop(x, w, b):\n",
    "    p = 0\n",
    "    \n",
    "    for i in range (x.shape[0]):\n",
    "        p_i = w[i]*x[i]\n",
    "        p = p + p_i\n",
    "    p = p + b\n",
    "    \n",
    "    return p"
   ]
  },
  {
   "cell_type": "code",
   "execution_count": 67,
   "id": "42156bdf",
   "metadata": {},
   "outputs": [
    {
     "name": "stdout",
     "output_type": "stream",
     "text": [
      "X vector shape: (4,) and X vector value: [2104    5    1   45]\n",
      "Predicted output is: 459.9999976194083 and shape: ()\n"
     ]
    }
   ],
   "source": [
    "#Extract a single row and make prediction\n",
    "x_vec = X_train[0,:]\n",
    "print(f\"X vector shape: {x_vec.shape} and X vector value: {x_vec}\")\n",
    "\n",
    "#make a prediction\n",
    "f_wb = predict_single_loop(x_vec, w_init, b_init)\n",
    "print(f\"Predicted output is: {f_wb} and shape: {f_wb.shape}\")"
   ]
  },
  {
   "cell_type": "markdown",
   "id": "034b6de6",
   "metadata": {},
   "source": [
    "# Same can be done using dot product of Vectors"
   ]
  },
  {
   "cell_type": "code",
   "execution_count": 68,
   "id": "4a152e29",
   "metadata": {},
   "outputs": [],
   "source": [
    "#dot product of vectors consumes less time as compared to the row wise element multiplication'\n",
    "#using arrays\n",
    "\n",
    "def predict(x, w, b):\n",
    "    \n",
    "    p = np.dot(x, w) + b\n",
    "    \n",
    "    return p"
   ]
  },
  {
   "cell_type": "code",
   "execution_count": 69,
   "id": "9ee20dc6",
   "metadata": {},
   "outputs": [
    {
     "name": "stdout",
     "output_type": "stream",
     "text": [
      "Predicted output is: 459.9999976194083 and shape is ()\n"
     ]
    }
   ],
   "source": [
    "#make the prediction for the same row\n",
    "f_wb = predict(x_vec, w_init, b_init)\n",
    "print(f\"Predicted output is: {f_wb} and shape is {f_wb.shape}\")"
   ]
  },
  {
   "cell_type": "code",
   "execution_count": 70,
   "id": "07736d63",
   "metadata": {},
   "outputs": [],
   "source": [
    "#Compute cost with multiple variables J(w,b) = (1/2m)*(f w,b(x(i)) - y(i))^2)\n",
    "\n",
    "def compute_cost(X, y, w, b):\n",
    "    cost = 0.0\n",
    "    #training data 'm'\n",
    "    m = X.shape[0]\n",
    "    \n",
    "    for i in range(m):\n",
    "        f_wb_i = np.dot(X[i], w) + b\n",
    "        cost = cost + (f_wb_i - y[i])**2\n",
    "        \n",
    "    cost = cost / (2*m)\n",
    "    \n",
    "    return cost"
   ]
  },
  {
   "cell_type": "code",
   "execution_count": 71,
   "id": "4f2faff7",
   "metadata": {},
   "outputs": [
    {
     "name": "stdout",
     "output_type": "stream",
     "text": [
      "Cost at optimal w: 1.5578904045996674e-12\n"
     ]
    }
   ],
   "source": [
    "#calculate cost \n",
    "\n",
    "cost = compute_cost(X_train, y_train, w_init, b_init)\n",
    "print(f\"Cost at optimal w: {cost}\")"
   ]
  },
  {
   "cell_type": "code",
   "execution_count": null,
   "id": "130b84db",
   "metadata": {},
   "outputs": [],
   "source": []
  }
 ],
 "metadata": {
  "kernelspec": {
   "display_name": "Python 3 (ipykernel)",
   "language": "python",
   "name": "python3"
  },
  "language_info": {
   "codemirror_mode": {
    "name": "ipython",
    "version": 3
   },
   "file_extension": ".py",
   "mimetype": "text/x-python",
   "name": "python",
   "nbconvert_exporter": "python",
   "pygments_lexer": "ipython3",
   "version": "3.11.5"
  }
 },
 "nbformat": 4,
 "nbformat_minor": 5
}
