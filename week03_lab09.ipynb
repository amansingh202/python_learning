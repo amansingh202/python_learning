{
 "cells": [
  {
   "cell_type": "markdown",
   "id": "9adff08d",
   "metadata": {},
   "source": [
    "# Regularization to overcome overfitting"
   ]
  },
  {
   "cell_type": "code",
   "execution_count": null,
   "id": "4b019eb9",
   "metadata": {},
   "outputs": [],
   "source": [
    "import numpy as np\n",
    "%matplotlib widget\n",
    "import matplotlib.pyplot as plt\n",
    "from plt_overfit import overfit_example, Output\n",
    "from lab_utils_common import sigmoid\n",
    "np.set_prin"
   ]
  }
 ],
 "metadata": {
  "kernelspec": {
   "display_name": "Python 3 (ipykernel)",
   "language": "python",
   "name": "python3"
  },
  "language_info": {
   "codemirror_mode": {
    "name": "ipython",
    "version": 3
   },
   "file_extension": ".py",
   "mimetype": "text/x-python",
   "name": "python",
   "nbconvert_exporter": "python",
   "pygments_lexer": "ipython3",
   "version": "3.11.5"
  }
 },
 "nbformat": 4,
 "nbformat_minor": 5
}
