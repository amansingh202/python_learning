{
 "cells": [
  {
   "cell_type": "markdown",
   "id": "9adff08d",
   "metadata": {},
   "source": [
    "# Regularization to overcome overfitting"
   ]
  },
  {
   "cell_type": "code",
   "execution_count": 1,
   "id": "4b019eb9",
   "metadata": {},
   "outputs": [],
   "source": [
    "import numpy as np\n",
    "%matplotlib widget\n",
    "import matplotlib.pyplot as plt\n",
    "from plt_overfit import overfit_example, Output\n",
    "from lab_utils_common import sigmoid\n",
    "np.set_printoptions(precision = 8)"
   ]
  },
  {
   "cell_type": "code",
   "execution_count": null,
   "id": "6dce79b8",
   "metadata": {},
   "outputs": [],
   "source": [
    "#Adding Regularization\n",
    "def compute_cost_linear_reg(X, y, w, b, lambda = 1):\n",
    "    m = X.shape[0]\n",
    "    n = len(w)\n",
    "    cost = 0\n",
    "    for i in range(m):\n",
    "        f_wb_i = np.dot(X[i], w) + b\n",
    "        cost += (f_wb_i - y[i])**2\n",
    "    cost /= (2*m)\n",
    "    \n",
    "    reg_cost = 0\n",
    "    for j in range(n):\n",
    "        reg_cost += w[j]**2\n",
    "    reg_cost = (lambda/(2*m))*reg_cost\n",
    "    \n",
    "    total_cost = cost + reg_cost\n",
    "    \n",
    "    retu\n"
   ]
  }
 ],
 "metadata": {
  "kernelspec": {
   "display_name": "Python 3 (ipykernel)",
   "language": "python",
   "name": "python3"
  },
  "language_info": {
   "codemirror_mode": {
    "name": "ipython",
    "version": 3
   },
   "file_extension": ".py",
   "mimetype": "text/x-python",
   "name": "python",
   "nbconvert_exporter": "python",
   "pygments_lexer": "ipython3",
   "version": "3.11.5"
  }
 },
 "nbformat": 4,
 "nbformat_minor": 5
}
