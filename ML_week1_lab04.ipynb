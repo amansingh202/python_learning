{
 "cells": [
  {
   "cell_type": "markdown",
   "id": "25ee210a",
   "metadata": {},
   "source": [
    "# Cost function in a linear regression"
   ]
  },
  {
   "cell_type": "code",
   "execution_count": 2,
   "id": "989addc5",
   "metadata": {},
   "outputs": [],
   "source": [
    "import numpy as np\n",
    "import matplotlib.pyplot as plt\n",
    "from lab_utils_uni import plt_intuition, plt_stationary, plt_update_onclick, soup_bowl\n",
    "plt.style.use('./deeplearning.mplstyle')"
   ]
  },
  {
   "cell_type": "code",
   "execution_count": 3,
   "id": "ede4cd31",
   "metadata": {},
   "outputs": [],
   "source": [
    "x_train = np.array([1,2])\n",
    "y_train = np.array([300, 500])\n",
    "#training data sets"
   ]
  },
  {
   "cell_type": "code",
   "execution_count": 4,
   "id": "7ec750f3",
   "metadata": {},
   "outputs": [],
   "source": [
    "#compute the squared error cost first and then divide it by 2m \n",
    "\n",
    "def compute_cost(x,y,w,b):\n",
    "    m = x.shape[0]\n",
    "    \n",
    "    cost_sum = 0\n",
    "    \n",
    "    for i in range(m):\n",
    "        f_wb = w * x[i] + b\n",
    "        cost = [f_wb - y[i]] ** 2\n",
    "        cost_sum += cost\n",
    "        \n",
    "    total_cost = (1/ (2*m)) * (cost_sum)\n",
    "    \n",
    "    return total_cost"
   ]
  },
  {
   "cell_type": "code",
   "execution_count": 5,
   "id": "2f0c40b1",
   "metadata": {},
   "outputs": [
    {
     "data": {
      "application/vnd.jupyter.widget-view+json": {
       "model_id": "a5372fe041334ad18d07e85ddf37773b",
       "version_major": 2,
       "version_minor": 0
      },
      "text/plain": [
       "interactive(children=(IntSlider(value=150, description='w', max=400, step=10), Output()), _dom_classes=('widge…"
      ]
     },
     "metadata": {},
     "output_type": "display_data"
    }
   ],
   "source": [
    "plt_intuition(x_train, y_train)"
   ]
  },
  {
   "cell_type": "code",
   "execution_count": null,
   "id": "2626340b",
   "metadata": {},
   "outputs": [],
   "source": []
  }
 ],
 "metadata": {
  "kernelspec": {
   "display_name": "Python 3 (ipykernel)",
   "language": "python",
   "name": "python3"
  },
  "language_info": {
   "codemirror_mode": {
    "name": "ipython",
    "version": 3
   },
   "file_extension": ".py",
   "mimetype": "text/x-python",
   "name": "python",
   "nbconvert_exporter": "python",
   "pygments_lexer": "ipython3",
   "version": "3.11.5"
  }
 },
 "nbformat": 4,
 "nbformat_minor": 5
}
