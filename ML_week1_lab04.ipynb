{
 "cells": [
  {
   "cell_type": "markdown",
   "id": "be89e745",
   "metadata": {},
   "source": [
    "# Cost function in a linear regression"
   ]
  },
  {
   "cell_type": "code",
   "execution_count": 2,
   "id": "ceb69f39",
   "metadata": {},
   "outputs": [],
   "source": [
    "import numpy as np\n",
    "import matplotlib.pyplot as plt\n",
    "from lab_utils_uni import plt_intuition, plt_stationary, plt_update_onclick, soup_bowl\n",
    "plt.style.use('./deeplearning.mplstyle')"
   ]
  },
  {
   "cell_type": "code",
   "execution_count": 3,
   "id": "b79fe737",
   "metadata": {},
   "outputs": [],
   "source": [
    "x_train = np.array([1,2])\n",
    "y_train = np.array([300, 500])\n",
    "#training data sets"
   ]
  },
  {
   "cell_type": "code",
   "execution_count": null,
   "id": "daa5fdb7",
   "metadata": {},
   "outputs": [],
   "source": [
    "#compute the squared error cost first and then divide it by 2m \n",
    "\n",
    "def compute_cost(x,y,w,b):\n",
    "    m = x.shape[0]\n",
    "    \n",
    "    cost_sum = 0\n",
    "    \n",
    "    for i in range(m):\n",
    "        f_wb = w * x[i] + b\n",
    "        cost = [f_wb - y[i]] ** 2\n",
    "        cost_sum += cost\n",
    "        \n",
    "    total_cost = (1/ (2*m)) * (cost_sum)\n",
    "    \n",
    "    return total_cost"
   ]
  }
 ],
 "metadata": {
  "kernelspec": {
   "display_name": "Python 3 (ipykernel)",
   "language": "python",
   "name": "python3"
  },
  "language_info": {
   "codemirror_mode": {
    "name": "ipython",
    "version": 3
   },
   "file_extension": ".py",
   "mimetype": "text/x-python",
   "name": "python",
   "nbconvert_exporter": "python",
   "pygments_lexer": "ipython3",
   "version": "3.11.5"
  }
 },
 "nbformat": 4,
 "nbformat_minor": 5
}
