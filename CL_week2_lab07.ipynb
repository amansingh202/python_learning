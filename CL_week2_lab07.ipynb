{
 "cells": [
  {
   "cell_type": "markdown",
   "id": "e9c95d74",
   "metadata": {},
   "source": [
    "# Linear Regression Practice"
   ]
  },
  {
   "cell_type": "code",
   "execution_count": 8,
   "id": "6947adab",
   "metadata": {},
   "outputs": [],
   "source": [
    "import numpy as np\n",
    "import matplotlib.pyplot as plt\n",
    "from utils import *\n",
    "import copy, math\n",
    "%matplotlib inline\n",
    "#from lab_utils_multi import load_house_data"
   ]
  },
  {
   "cell_type": "code",
   "execution_count": 10,
   "id": "3df638ee",
   "metadata": {},
   "outputs": [],
   "source": [
    "#load the dataset\n",
    "X_train, y_train = load_data()"
   ]
  },
  {
   "cell_type": "code",
   "execution_count": 12,
   "id": "bfb48cbf",
   "metadata": {},
   "outputs": [
    {
     "name": "stdout",
     "output_type": "stream",
     "text": [
      "Type of X_train is: <class 'numpy.ndarray'>\n",
      "First 5 values are : [6.1101 5.5277 8.5186 7.0032 5.8598]\n"
     ]
    }
   ],
   "source": [
    "print(f\"Type of X_train is: {type(X_train)}\")\n",
    "print(f\"First 5 values are : {X_train[:5]}\")"
   ]
  },
  {
   "cell_type": "code",
   "execution_count": 13,
   "id": "8022fc66",
   "metadata": {},
   "outputs": [
    {
     "name": "stdout",
     "output_type": "stream",
     "text": [
      "Type of y_train is : <class 'numpy.ndarray'>\n",
      "First five values are : [17.592   9.1302 13.662  11.854   6.8233]\n"
     ]
    }
   ],
   "source": [
    "#print y_train\n",
    "print(f\"Type of y_train is : {type(y_train)}\")\n",
    "print(f\"First five values are : {y_train[:5]}\")"
   ]
  },
  {
   "cell_type": "code",
   "execution_count": 16,
   "id": "285eb1f9",
   "metadata": {},
   "outputs": [
    {
     "name": "stdout",
     "output_type": "stream",
     "text": [
      "Shape of X_train is : (97,)\n",
      "Shape of y_train is : (97,)\n",
      "Number of training examples 'm': 97\n"
     ]
    }
   ],
   "source": [
    "#dimensions of data\n",
    "print(f\"Shape of X_train is : {X_train.shape}\")\n",
    "print(f\"Shape of y_train is : {y_train.shape}\")\n",
    "print(f\"Number of training examples 'm': {len(X_train)}\")"
   ]
  },
  {
   "cell_type": "code",
   "execution_count": null,
   "id": "c12748d0",
   "metadata": {},
   "outputs": [],
   "source": []
  }
 ],
 "metadata": {
  "kernelspec": {
   "display_name": "Python 3 (ipykernel)",
   "language": "python",
   "name": "python3"
  },
  "language_info": {
   "codemirror_mode": {
    "name": "ipython",
    "version": 3
   },
   "file_extension": ".py",
   "mimetype": "text/x-python",
   "name": "python",
   "nbconvert_exporter": "python",
   "pygments_lexer": "ipython3",
   "version": "3.11.5"
  }
 },
 "nbformat": 4,
 "nbformat_minor": 5
}
