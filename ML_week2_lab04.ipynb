{
 "cells": [
  {
   "cell_type": "markdown",
   "id": "8c92db93",
   "metadata": {},
   "source": [
    "# Feature_engineering_polynomial_regression"
   ]
  },
  {
   "cell_type": "code",
   "execution_count": null,
   "id": "66fb60fb",
   "metadata": {},
   "outputs": [],
   "source": [
    "import numpy as np\n",
    "import matplotlib.pyplot as plt\n",
    "from lab_utils_multi import zscore_normalize_features, run_gradient_descent_feng\n",
    "np.set_printoptions(precision = 2)"
   ]
  },
  {
   "cell_type": "code",
   "execution_count": null,
   "id": "166a3e9f",
   "metadata": {},
   "outputs": [],
   "source": [
    "#create target data\n",
    "#for the polynomial data y = x^2 + 1\n",
    "x = np.arange(0,20,1)\n",
    "y = 1 + x**2\n",
    "\n",
    "X = x.reshape(-1, 1)\n",
    "\n",
    "model_w, model_b = run_gradient_descent_feng(X, y, iterations = 1000, alpha = 1e-2)\n",
    "\n",
    "plt.scatter(x, y, marker = 'x', c= 'r', label = \"Actual Value\")\n",
    "plt.title(\"no feature engineering\")\n",
    "\n",
    "plt.scatter(x, X@model_w + model_b, label = 'Predicted Value')\n",
    "\n",
    "plt.xlabel(\"X\")\n",
    "plt.ylabel(\"Y\")\n",
    "plt.legend()\n",
    "plt.show()\n",
    "\n"
   ]
  },
  {
   "cell_type": "code",
   "execution_count": null,
   "id": "acf834c3",
   "metadata": {},
   "outputs": [],
   "source": [
    "#lets add feature engineering with x0^2 insted of x\n",
    "#the equation will look like\n",
    "#y = w0x0^2 + b\n",
    "#create target data\n",
    "x = np.arange(0, 20, 1)\n",
    "y = 1 + x**2\n",
    "\n",
    "#enginner features\n",
    "X = X**2\n"
   ]
  },
  {
   "cell_type": "code",
   "execution_count": null,
   "id": "1573ec4c",
   "metadata": {},
   "outputs": [],
   "source": [
    "X = X.reshape(-1, 1)\n",
    "model_w, model_b = run_gradient_descent_feng(X, y, iterations = 10000, alpha = 1e-5)\n",
    "\n",
    "plt.scatter(x, y, marker = 'x', c = 'r', label = \"Actual value\")\n",
    "plt.title(\"Added x**2 features\")\n",
    "plt.plot(x, np.dot(X, model_w) + model_b, label = \"Predicted values\")\n",
    "plt.xlabel(\"x\")\n",
    "plt.ylabel(\"y\")\n",
    "plt.legend()"
   ]
  },
  {
   "cell_type": "code",
   "execution_count": null,
   "id": "ffe0a0a6",
   "metadata": {},
   "outputs": [],
   "source": [
    "#create target data\n",
    "x = np.arange(0, 20, 1)\n",
    "y = x**2\n",
    "\n",
    "#enginner features\n",
    "X = np.c_[x, x**2, x**3] # <--- enginnering features added\n",
    "\n"
   ]
  },
  {
   "cell_type": "code",
   "execution_count": null,
   "id": "d697fa3b",
   "metadata": {},
   "outputs": [],
   "source": [
    "model_w, model_b = run_gradient_descent_feng(X, y, iterations = 10000, alpha = 1e-7)\n",
    "\n",
    "plt.scatter(x, y, marker = 'x', label = \"Actual Data\", c = 'r')\n",
    "plt.title(\"x, x**2, x**3 features\")\n",
    "\n",
    "plt.plot(x, X@model_w + model_b, label = 'Predicted Value')\n",
    "plt.xlabel('x')\n",
    "plt.ylabel('y')\n",
    "\n",
    "plt.legend()\n",
    "plt.show()"
   ]
  },
  {
   "cell_type": "code",
   "execution_count": null,
   "id": "d3c11199",
   "metadata": {},
   "outputs": [],
   "source": [
    "#above the model is of the form 0.08x + 0.54x^2 + 0.03x^3 + 0.0106\n",
    "\n",
    "\n",
    "#create target data for an alternate view\n",
    "x = np.arange(0, 20, 1)\n",
    "y = x**2\n",
    "\n",
    "#engineer features\n",
    "X = np.c_[x, x**2, x**3]\n",
    "X_features = ['x', 'x^2', 'x^3']"
   ]
  },
  {
   "cell_type": "code",
   "execution_count": null,
   "id": "11bd8386",
   "metadata": {},
   "outputs": [],
   "source": [
    "fig, ax = plt.subplots(1, 3, figsize = (12,3), sharey = True)\n",
    "for i in range(len(ax)):\n",
    "    ax[i].scatter(X[:,i], y)\n",
    "    ax[i].set_xlabel(X_features[i])\n",
    "    \n",
    "ax[0].set_ylabel(\"y\")\n",
    "plt.show()"
   ]
  },
  {
   "cell_type": "code",
   "execution_count": null,
   "id": "f165dc85",
   "metadata": {},
   "outputs": [],
   "source": [
    "#create target data\n",
    "x = np.arange(0, 20, 1)\n",
    "X = np.c_[x, x**2, x**3]\n",
    "print(f\"Peak to peak value by column in Raw is: X:{np.ptp(X, axis = 0)}\")\n",
    "\n",
    "#add mean normalization\n",
    "X = zscore_normalize_features(X)\n",
    "print(f\"Peak to Peak range by column is Normalized X:{np.ptp(X, axis = 0)}\")"
   ]
  },
  {
   "cell_type": "code",
   "execution_count": null,
   "id": "ff19254d",
   "metadata": {},
   "outputs": [],
   "source": [
    "#with the agressive value of alpha\n",
    "x = np.arange(0, 20, 1)\n",
    "y = x**2\n",
    "\n",
    "X = np.c_[x, x**2, x**3]\n",
    "X = zscore_normalize_features(X)\n",
    "\n",
    "model_w, model_b = run_gradient_descent_feng(X, y, iterations = 100000, alpha = 1e-1)\n",
    "\n",
    "plt.scatter(x, y, marker = 'x', c = 'r', label = \"Actual Value\")\n",
    "plt.title(\"Normalized x, x**2, x**3 features\")\n",
    "\n",
    "plt.plot(x, X@model_w + model_b, label = \"Predicted Values\")\n",
    "plt.xlabel('x')\n",
    "plt.ylabel('y')\n",
    "plt.legend()\n",
    "plt.show()"
   ]
  },
  {
   "cell_type": "code",
   "execution_count": null,
   "id": "7fc28027",
   "metadata": {},
   "outputs": [],
   "source": [
    "#Complex functions\n",
    "\n",
    "x = np.arange(0, 20, 1)\n",
    "y = np.cos(x/2)\n",
    "\n",
    "X = np.c_[x, x**2, x**3, x**4, x**5, x**6, x**7, x**8, x**9, x**10, x**11, x**12, x**13]\n",
    "X = zscore_normalize_features(X)\n",
    "\n",
    "model_w, model_b = run_gradient_descent_feng(X, y, iterations = 1000000, alpha = 1e-1)\n",
    "\n",
    "plt.scatter(x, y, marker = 'x', c = 'r', label =\"Actual Values\")\n",
    "plt.title(\"Normalized x, x**2, x**3\")\n",
    "plt.plot(x, X@model_w + model_b, label = \"Predicted Values\")\n",
    "plt.xlabel('x')\n",
    "plt.ylabel('y')\n",
    "plt.legend()\n",
    "plt.show()"
   ]
  },
  {
   "cell_type": "code",
   "execution_count": null,
   "id": "7492d990",
   "metadata": {},
   "outputs": [],
   "source": []
  }
 ],
 "metadata": {
  "kernelspec": {
   "display_name": "Python 3 (ipykernel)",
   "language": "python",
   "name": "python3"
  },
  "language_info": {
   "codemirror_mode": {
    "name": "ipython",
    "version": 3
   },
   "file_extension": ".py",
   "mimetype": "text/x-python",
   "name": "python",
   "nbconvert_exporter": "python",
   "pygments_lexer": "ipython3",
   "version": "3.11.5"
  }
 },
 "nbformat": 4,
 "nbformat_minor": 5
}
