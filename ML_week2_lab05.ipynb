{
 "cells": [
  {
   "cell_type": "markdown",
   "id": "2301fe1b",
   "metadata": {},
   "source": [
    "# Linear Regression Using Scikit-Learn library"
   ]
  },
  {
   "cell_type": "code",
   "execution_count": 11,
   "id": "fd133e84",
   "metadata": {},
   "outputs": [],
   "source": [
    "#use of open source libraray Scikit-Learn to implement for ML models\n",
    "\n",
    "#use scikit-learn to run linear regression using gradient descent\n",
    "\n",
    "import numpy as np\n",
    "import matplotlib.pyplot as plt\n",
    "from sklearn.linear_model import SGDRegressor\n",
    "from sklearn.preprocessing import StandardScaler\n",
    "from lab_utils_multi import load_house_data\n",
    "from lab_utils_common import dlc\n",
    "np.set_printoptions(precision = 2)\n",
    "plt.style.use('./deeplearning.mplstyle')"
   ]
  },
  {
   "cell_type": "code",
   "execution_count": 12,
   "id": "441ebd8c",
   "metadata": {},
   "outputs": [],
   "source": [
    "#Gradient Descent \n",
    "\n",
    "#gradient descent regression model sklearn.linear_model.SGDRegressor\n",
    "\n",
    "#z score normalization: sklearn.preprocessing.StandardScaler\n",
    "\n",
    "X_train, y_train = load_house_data()\n",
    "X_features = ['size(sqft)', 'bedrroms', 'floors', 'age']\n"
   ]
  },
  {
   "cell_type": "code",
   "execution_count": 13,
   "id": "8a713b0d",
   "metadata": {},
   "outputs": [
    {
     "name": "stdout",
     "output_type": "stream",
     "text": [
      "Peak tot Peak range by column in Raw. X:[2.41e+03 4.00e+00 1.00e+00 9.50e+01]\n",
      "Peak tot Peak range by column in Raw. X:[5.85 6.14 2.06 3.69]\n"
     ]
    }
   ],
   "source": [
    "#Scale normalize the training data\n",
    "\n",
    "scaler = StandardScaler()\n",
    "X_norm = scaler.fit_transform(X_train)\n",
    "\n",
    "print(f\"Peak tot Peak range by column in Raw. X:{np.ptp(X_train, axis = 0)}\")\n",
    "print(f\"Peak tot Peak range by column in Raw. X:{np.ptp(X_norm, axis = 0)}\")"
   ]
  },
  {
   "cell_type": "code",
   "execution_count": 17,
   "id": "42844b91",
   "metadata": {},
   "outputs": [
    {
     "name": "stdout",
     "output_type": "stream",
     "text": [
      "SGDRegressor(max_iter=130)\n",
      "number of iterations completed: 124, number of weight updates: 12277.0\n"
     ]
    }
   ],
   "source": [
    "#create and fit the regression model\n",
    "sgdr = SGDRegressor( max_iter= 130)\n",
    "sgdr.fit(X_norm, y_train)\n",
    "print(sgdr)\n",
    "\n",
    "print(f\"number of iterations completed: {sgdr.n_iter_}, number of weight updates: {sgdr.t_}\")\n"
   ]
  },
  {
   "cell_type": "code",
   "execution_count": 18,
   "id": "febd928f",
   "metadata": {},
   "outputs": [
    {
     "name": "stdout",
     "output_type": "stream",
     "text": [
      "model parameters: w: [110.1  -21.06 -32.47 -38.05], b: [363.16]\n",
      "Model parameters from previous lab: w:[110.56, -21.27, -32.71, -37.97], b: 363.16\n"
     ]
    }
   ],
   "source": [
    "#view parameters\n",
    "\n",
    "b_norm = sgdr.intercept_\n",
    "w_norm = sgdr.coef_\n",
    "\n",
    "print(f\"model parameters: w: {w_norm}, b: {b_norm}\")\n",
    "print(\"Model parameters from previous lab: w:[110.56, -21.27, -32.71, -37.97], b: 363.16\")"
   ]
  },
  {
   "cell_type": "code",
   "execution_count": 19,
   "id": "3fe52239",
   "metadata": {},
   "outputs": [
    {
     "name": "stdout",
     "output_type": "stream",
     "text": [
      "Prediction using np.dot() and sgdr.predict() matches: True\n",
      "Prediction on the training data set: [295.19 485.85 389.57 492.01]\n",
      "Target values [300.  509.8 394.  540. ]\n"
     ]
    }
   ],
   "source": [
    "#Make predictions using sgdr.predict() method\n",
    "\n",
    "y_pred_sgd = sgdr.predict(X_norm)\n",
    "\n",
    "#make predictions using w and b parameters\n",
    "y_pred = np.dot(X_norm, w_norm) + b_norm\n",
    "\n",
    "print(f\"Prediction using np.dot() and sgdr.predict() matches: {(y_pred == y_pred_sgd).all()}\")\n",
    "\n",
    "print(f\"Prediction on the training data set: {y_pred[:4]}\")\n",
    "print(f\"Target values {y_train[:4]}\")"
   ]
  },
  {
   "cell_type": "code",
   "execution_count": null,
   "id": "aa4c3c91",
   "metadata": {},
   "outputs": [],
   "source": [
    "#plot the sgdr results \n",
    "\n",
    "fig, ax = plt.subplots(1,4, figsize = (12,4), sharey = True)\n",
    "\n",
    "for i in range(len(ax)):\n",
    "    ax[i].scatter(X_train[:,i], y_train, label = 'target')\n",
    "    ax[i].set_xlabel(X_features[i])\n",
    "    ax[i].scatter(X_train[:,i], y_pred, c = 'r', label = 'predict')\n",
    "    \n",
    "ax[0].set_ylabel(\"Price\")\n",
    "ax[0].legend()\n"
   ]
  }
 ],
 "metadata": {
  "kernelspec": {
   "display_name": "Python 3 (ipykernel)",
   "language": "python",
   "name": "python3"
  },
  "language_info": {
   "codemirror_mode": {
    "name": "ipython",
    "version": 3
   },
   "file_extension": ".py",
   "mimetype": "text/x-python",
   "name": "python",
   "nbconvert_exporter": "python",
   "pygments_lexer": "ipython3",
   "version": "3.11.5"
  }
 },
 "nbformat": 4,
 "nbformat_minor": 5
}
