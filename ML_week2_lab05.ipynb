{
 "cells": [
  {
   "cell_type": "markdown",
   "id": "bc0a1454",
   "metadata": {},
   "source": [
    "# Linear Regression Using Scikit-Learn library"
   ]
  },
  {
   "cell_type": "code",
   "execution_count": 11,
   "id": "d3c7a33e",
   "metadata": {},
   "outputs": [],
   "source": [
    "#use of open source libraray Scikit-Learn to implement for ML models\n",
    "\n",
    "#use scikit-learn to run linear regression using gradient descent\n",
    "\n",
    "import numpy as np\n",
    "import matplotlib.pyplot as plt\n",
    "from sklearn.linear_model import SGDRegressor\n",
    "from sklearn.preprocessing import StandardScaler\n",
    "from lab_utils_multi import load_house_data\n",
    "from lab_utils_common import dlc\n",
    "np.set_printoptions(precision = 2)\n",
    "plt.style.use('./deeplearning.mplstyle')"
   ]
  },
  {
   "cell_type": "code",
   "execution_count": 12,
   "id": "101baae2",
   "metadata": {},
   "outputs": [],
   "source": [
    "#Gradient Descent \n",
    "\n",
    "#gradient descent regression model sklearn.linear_model.SGDRegressor\n",
    "\n",
    "#z score normalization: sklearn.preprocessing.StandardScaler\n",
    "\n",
    "X_train, y_train = load_house_data()\n",
    "X_features = ['size(sqft)', 'bedrroms', 'floors', 'age']\n"
   ]
  },
  {
   "cell_type": "code",
   "execution_count": 13,
   "id": "6d2da071",
   "metadata": {},
   "outputs": [
    {
     "name": "stdout",
     "output_type": "stream",
     "text": [
      "Peak tot Peak range by column in Raw. X:[2.41e+03 4.00e+00 1.00e+00 9.50e+01]\n",
      "Peak tot Peak range by column in Raw. X:[5.85 6.14 2.06 3.69]\n"
     ]
    }
   ],
   "source": [
    "#Scale normalize the training data\n",
    "\n",
    "scaler = StandardScaler()\n",
    "X_norm = scaler.fit_transform(X_train)\n",
    "\n",
    "print(f\"Peak tot Peak range by column in Raw. X:{np.ptp(X_train, axis = 0)}\")\n",
    "print(f\"Peak tot Peak range by column in Raw. X:{np.ptp(X_norm, axis = 0)}\")"
   ]
  },
  {
   "cell_type": "code",
   "execution_count": 15,
   "id": "239014f7",
   "metadata": {},
   "outputs": [
    {
     "name": "stdout",
     "output_type": "stream",
     "text": [
      "SGDRegressor(max_iter=100)\n",
      "number of iterations completed: 100, number of weight updates: 9901.0\n"
     ]
    },
    {
     "name": "stderr",
     "output_type": "stream",
     "text": [
      "/Users/amansingh/anaconda3/lib/python3.11/site-packages/sklearn/linear_model/_stochastic_gradient.py:1575: ConvergenceWarning: Maximum number of iteration reached before convergence. Consider increasing max_iter to improve the fit.\n",
      "  warnings.warn(\n"
     ]
    }
   ],
   "source": [
    "#create and fit the regression model\n",
    "sgdr = SGDRegressor( max_iter= 100)\n",
    "sgdr.fit(X_norm, y_train)\n",
    "print(sgdr)\n",
    "\n",
    "print(f\"number of iterations completed: {sgdr.n_iter_}, number of weight updates: {sgdr.t_}\")\n"
   ]
  },
  {
   "cell_type": "code",
   "execution_count": null,
   "id": "1e13c9b3",
   "metadata": {},
   "outputs": [],
   "source": []
  }
 ],
 "metadata": {
  "kernelspec": {
   "display_name": "Python 3 (ipykernel)",
   "language": "python",
   "name": "python3"
  },
  "language_info": {
   "codemirror_mode": {
    "name": "ipython",
    "version": 3
   },
   "file_extension": ".py",
   "mimetype": "text/x-python",
   "name": "python",
   "nbconvert_exporter": "python",
   "pygments_lexer": "ipython3",
   "version": "3.11.5"
  }
 },
 "nbformat": 4,
 "nbformat_minor": 5
}
