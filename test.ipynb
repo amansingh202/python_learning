{
 "cells": [
  {
   "cell_type": "code",
   "execution_count": null,
   "id": "25af0ccf",
   "metadata": {},
   "outputs": [],
   "source": []
  }
 ],
 "metadata": {
  "kernelspec": {
   "display_name": "Python 3 (ipykernel)",
   "language": "python",
   "name": "python3"
  }
 },
 "nbformat": 4,
 "nbformat_minor": 5
}
