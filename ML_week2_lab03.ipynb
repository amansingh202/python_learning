{
 "cells": [
  {
   "cell_type": "markdown",
   "id": "c0624009",
   "metadata": {},
   "source": [
    "# Feature scaling and learning rate"
   ]
  },
  {
   "cell_type": "markdown",
   "id": "d543b8d4",
   "metadata": {},
   "source": [
    "# improve gradient descent by feature scaling using z-score normalisation"
   ]
  },
  {
   "cell_type": "code",
   "execution_count": 3,
   "id": "f3f6978a",
   "metadata": {},
   "outputs": [],
   "source": [
    "import numpy as np\n",
    "import matplotlib.pyplot as plt\n",
    "from lab_utils_multi import  load_house_data, run_gradient_descent \n",
    "from lab_utils_multi import  norm_plot, plt_equal_scale, plot_cost_i_w\n",
    "from lab_utils_common import dlc\n",
    "np.set_printoptions(precision=2)\n",
    "plt.style.use('./deeplearning.mplstyle')"
   ]
  },
  {
   "cell_type": "code",
   "execution_count": 4,
   "id": "92c7cfe7",
   "metadata": {},
   "outputs": [],
   "source": [
    "# load the dataset\n",
    "X_train, y_train = load_house_data()\n",
    "X_features = ['size(sqft)','bedrooms','floors','age']"
   ]
  },
  {
   "cell_type": "code",
   "execution_count": null,
   "id": "4134a23b",
   "metadata": {},
   "outputs": [],
   "source": [
    "#plotting the dataset\n",
    "fig, ax = plt.subplots(1,4, figsize = (12,3), sharey = True)\n",
    "for i i range(len(ax)):\n",
    "    ax[i].scatter(X_train[:,i], y_train)\n",
    "    ax[i].set_x"
   ]
  }
 ],
 "metadata": {
  "kernelspec": {
   "display_name": "Python 3 (ipykernel)",
   "language": "python",
   "name": "python3"
  },
  "language_info": {
   "codemirror_mode": {
    "name": "ipython",
    "version": 3
   },
   "file_extension": ".py",
   "mimetype": "text/x-python",
   "name": "python",
   "nbconvert_exporter": "python",
   "pygments_lexer": "ipython3",
   "version": "3.11.5"
  }
 },
 "nbformat": 4,
 "nbformat_minor": 5
}
