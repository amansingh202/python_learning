{
 "cells": [
  {
   "cell_type": "markdown",
   "id": "52f30dca",
   "metadata": {},
   "source": [
    "# Sigmoid Function"
   ]
  },
  {
   "cell_type": "code",
   "execution_count": 2,
   "id": "e973194d",
   "metadata": {},
   "outputs": [],
   "source": [
    "import numpy as np\n",
    "%matplotlib widget\n",
    "import matplotlib.pyplot as plt\n",
    "from plt_one_addpt_onclick import plt_one_addpt_onclick\n",
    "from lab_utils_common import draw_vthresh\n",
    "plt.style.use('./deeplearning.mplstyle')"
   ]
  },
  {
   "cell_type": "code",
   "execution_count": 3,
   "id": "16d544dc",
   "metadata": {},
   "outputs": [
    {
     "name": "stdout",
     "output_type": "stream",
     "text": [
      "Input to exp: [1 2 3]\n",
      "Output of exp: [ 2.72  7.39 20.09]\n",
      "Input to exp: [1 2 3]\n",
      "Output of exp: [ 2.72  7.39 20.09]\n"
     ]
    }
   ],
   "source": [
    "'''Sigmoid function 1/(1+ e^-z) can be represented by using the exp method of numpy libraray\n",
    "which w'''\n",
    "\n",
    "#input is an array\n",
    "\n",
    "input_array = np.array([1, 2, 3])\n",
    "exp_array = np.exp(input_array)\n",
    "\n",
    "print(f\"Input to exp: {input_array}\")\n",
    "print(f\"Output of exp: {exp_array}\")\n",
    "\n",
    "#input is a single number\n",
    "\n",
    "input_val = 1\n",
    "exp_val = np.exp(input_val)\n",
    "\n",
    "print(f\"Input to exp: {input_array}\")\n",
    "print(f\"Output of exp: {exp_array}\")"
   ]
  }
 ],
 "metadata": {
  "kernelspec": {
   "display_name": "Python 3 (ipykernel)",
   "language": "python",
   "name": "python3"
  },
  "language_info": {
   "codemirror_mode": {
    "name": "ipython",
    "version": 3
   },
   "file_extension": ".py",
   "mimetype": "text/x-python",
   "name": "python",
   "nbconvert_exporter": "python",
   "pygments_lexer": "ipython3",
   "version": "3.11.5"
  }
 },
 "nbformat": 4,
 "nbformat_minor": 5
}
