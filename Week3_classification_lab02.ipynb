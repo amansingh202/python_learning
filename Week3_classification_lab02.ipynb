{
 "cells": [
  {
   "cell_type": "markdown",
   "id": "52f30dca",
   "metadata": {},
   "source": [
    "# Sigmoid Function"
   ]
  },
  {
   "cell_type": "code",
   "execution_count": 2,
   "id": "e973194d",
   "metadata": {},
   "outputs": [],
   "source": [
    "import numpy as np\n",
    "%matplotlib widget\n",
    "import matplotlib.pyplot as plt\n",
    "from plt_one_addpt_onclick import plt_one_addpt_onclick\n",
    "from lab_utils_common import draw_vthresh\n",
    "plt.style.use('./deeplearning.mplstyle')"
   ]
  },
  {
   "cell_type": "code",
   "execution_count": 3,
   "id": "f1b61b9c",
   "metadata": {},
   "outputs": [
    {
     "name": "stdout",
     "output_type": "stream",
     "text": [
      "Input to exp: [1 2 3]\n",
      "Output of exp: [ 2.72  7.39 20.09]\n",
      "Input to exp: [1 2 3]\n",
      "Output of exp: [ 2.72  7.39 20.09]\n"
     ]
    }
   ],
   "source": [
    "'''Sigmoid function 1/(1+ e^-z) can be represented by using the exp method of numpy libraray\n",
    "which would be used to represent sigmoid function.\n",
    "It is used so that the output lies between 0 and for z = - infinity to + infinity'''\n",
    "\n",
    "#input is an array\n",
    "\n",
    "input_array = np.array([1, 2, 3])\n",
    "exp_array = np.exp(input_array)\n",
    "\n",
    "print(f\"Input to exp: {input_array}\")\n",
    "print(f\"Output of exp: {exp_array}\")\n",
    "\n",
    "#input is a single number\n",
    "\n",
    "input_val = 1\n",
    "exp_val = np.exp(input_val)\n",
    "\n",
    "print(f\"Input to exp: {input_array}\")\n",
    "print(f\"Output of exp: {exp_array}\")"
   ]
  },
  {
   "cell_type": "code",
   "execution_count": 4,
   "id": "8e99f286",
   "metadata": {},
   "outputs": [],
   "source": [
    "def sigmoid(z):\n",
    "    #sigmoid function\n",
    "    g = 1/(1 + np.exp(-z))\n",
    "    \n",
    "    return g"
   ]
  },
  {
   "cell_type": "code",
   "execution_count": 6,
   "id": "6004bee4",
   "metadata": {},
   "outputs": [
    {
     "name": "stdout",
     "output_type": "stream",
     "text": [
      "Input (z), Output (sigmoid(z))\n",
      "[[-1.000e+01  4.540e-05]\n",
      " [-9.000e+00  1.234e-04]\n",
      " [-8.000e+00  3.354e-04]\n",
      " [-7.000e+00  9.111e-04]\n",
      " [-6.000e+00  2.473e-03]\n",
      " [-5.000e+00  6.693e-03]\n",
      " [-4.000e+00  1.799e-02]\n",
      " [-3.000e+00  4.743e-02]\n",
      " [-2.000e+00  1.192e-01]\n",
      " [-1.000e+00  2.689e-01]\n",
      " [ 0.000e+00  5.000e-01]\n",
      " [ 1.000e+00  7.311e-01]\n",
      " [ 2.000e+00  8.808e-01]\n",
      " [ 3.000e+00  9.526e-01]\n",
      " [ 4.000e+00  9.820e-01]\n",
      " [ 5.000e+00  9.933e-01]\n",
      " [ 6.000e+00  9.975e-01]\n",
      " [ 7.000e+00  9.991e-01]\n",
      " [ 8.000e+00  9.997e-01]\n",
      " [ 9.000e+00  9.999e-01]\n",
      " [ 1.000e+01  1.000e+00]]\n"
     ]
    }
   ],
   "source": [
    "#generate an array of evenly spaced values between -10 and 10\n",
    "z_tmp = np.arange(-10, 11)\n",
    "\n",
    "# use the function implemented above to get the sigmoid function values\n",
    "y = sigmoid(z_tmp)\n",
    "\n",
    "#code for pretty printing the two arrays next to each other\n",
    "np.set_printoptions(precision = 3)\n",
    "print(\"Input (z), Output (sigmoid(z))\")\n",
    "print(np.c_[z_tmp, y])"
   ]
  },
  {
   "cell_type": "code",
   "execution_count": null,
   "id": "c8dca007",
   "metadata": {},
   "outputs": [],
   "source": [
    "# plot z vs sigmoid(z)\n",
    "fig, ax = plt.subplots(1,1,figsize = (5,3))\n",
    "ax.plot(z_tmp, y, c = \"b\")\n",
    "\n",
    "ax.set_title(\"Sigmoid function\")\n",
    "ax.set_ylabel(\"Sigmoid(z)\")\n",
    "ax.set_xlabel('z')\n",
    "draw_"
   ]
  }
 ],
 "metadata": {
  "kernelspec": {
   "display_name": "Python 3 (ipykernel)",
   "language": "python",
   "name": "python3"
  },
  "language_info": {
   "codemirror_mode": {
    "name": "ipython",
    "version": 3
   },
   "file_extension": ".py",
   "mimetype": "text/x-python",
   "name": "python",
   "nbconvert_exporter": "python",
   "pygments_lexer": "ipython3",
   "version": "3.11.5"
  }
 },
 "nbformat": 4,
 "nbformat_minor": 5
}
