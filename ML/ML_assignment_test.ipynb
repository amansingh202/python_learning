{
 "cells": [
  {
   "cell_type": "code",
   "execution_count": 7,
   "id": "1eae90fa",
   "metadata": {},
   "outputs": [
    {
     "name": "stdout",
     "output_type": "stream",
     "text": [
      "Optimal coefficients: [0. 0. 0. 0. 0. 0. 0. 0. 0. 0. 0. 0. 0. 0. 0. 0. 0. 0. 0. 0. 0. 0. 0. 0.\n",
      " 0. 0. 0. 0. 0. 0. 0. 0. 0. 0. 0. 0. 0. 0. 0. 0. 0. 0. 0. 0. 0. 0. 0. 0.\n",
      " 0. 0. 0. 0.]\n",
      "Log loss value: 693.1471805599454\n"
     ]
    },
    {
     "name": "stderr",
     "output_type": "stream",
     "text": [
      "/var/folders/1q/s253407j181087kqscr2byl40000gn/T/ipykernel_2620/1837811877.py:19: RuntimeWarning: overflow encountered in exp\n",
      "  loss = -np.sum(y * z - np.log(1 + np.exp(z)))\n",
      "/var/folders/1q/s253407j181087kqscr2byl40000gn/T/ipykernel_2620/1837811877.py:19: RuntimeWarning: overflow encountered in exp\n",
      "  loss = -np.sum(y * z - np.log(1 + np.exp(z)))\n"
     ]
    }
   ],
   "source": [
    "# Import NumPy, SciPy, and pandas\n",
    "import numpy as np\n",
    "from scipy.optimize import minimize\n",
    "import pandas as pd\n",
    "\n",
    "# Define the sigmoid function\n",
    "def sigmoid(z):\n",
    "  return 1 / (1 + np.exp(-z))\n",
    "\n",
    "# Define the log loss function with ridge regularization\n",
    "def log_loss_ridge(c, X, y, lam):\n",
    "  # c is the coefficient vector, including the intercept term\n",
    "  # X is the feature matrix, with a column of ones for the intercept\n",
    "  # y is the response vector, with values 0 or 1\n",
    "  # lam is the regularization parameter\n",
    "  # Calculate the linear predictor\n",
    "  z = X.dot(c)\n",
    "  # Calculate the log loss\n",
    "  loss = -np.sum(y * z - np.log(1 + np.exp(z)))\n",
    "  # Add the ridge penalty\n",
    "  penalty = lam * np.sum(c ** 2)\n",
    "  # Return the total cost\n",
    "  return loss + penalty\n",
    "\n",
    "# Define the gradient of the log loss function with ridge regularization\n",
    "def log_loss_ridge_grad(c, X, y, lam):\n",
    "  # c is the coefficient vector, including the intercept term\n",
    "  # X is the feature matrix, with a column of ones for the intercept\n",
    "  # y is the response vector, with values 0 or 1\n",
    "  # lam is the regularization parameter\n",
    "  # Calculate the linear predictor\n",
    "  z = X.dot(c)\n",
    "  # Calculate the gradient of the log loss\n",
    "  grad = -np.sum((y - sigmoid(z))[:, np.newaxis] * X, axis=0)\n",
    "  # Add the ridge penalty gradient\n",
    "  penalty_grad = 2 * lam * c\n",
    "  # Return the total gradient\n",
    "  return grad + penalty_grad\n",
    "\n",
    "# Load the data from a CSV file\n",
    "# Assuming the data is stored in a CSV file named \"data.csv\"\n",
    "# Assuming the first column is the target variable y and the rest are the features x\n",
    "# Use pandas to read the CSV file into a DataFrame\n",
    "df = pd.read_csv(\"data12.csv\")\n",
    "# Convert the DataFrame into a NumPy array\n",
    "data = df.to_numpy()\n",
    "# Separate the target and the features\n",
    "y = data[:, 0]\n",
    "X = data[:, 1:]\n",
    "# Add a column of ones for the intercept term\n",
    "X = np.hstack([np.ones((X.shape[0], 1)), X])\n",
    "\n",
    "# Choose a value for the regularization parameter\n",
    "# This can be done by cross-validation or other methods\n",
    "# Here we use a fixed value for simplicity\n",
    "lam = 0.1\n",
    "\n",
    "# Initialize the coefficient vector with zeros\n",
    "c = np.zeros(X.shape[1])\n",
    "\n",
    "# Use SciPy's minimize function to find the optimal coefficients\n",
    "# by minimizing the log loss function with ridge regularization\n",
    "# using the gradient information\n",
    "result = minimize(fun=log_loss_ridge, x0=c, args=(X, y, lam), jac=log_loss_ridge_grad)\n",
    "\n",
    "# Print the optimal coefficients and the log loss value\n",
    "print(\"Optimal coefficients:\", result.x)\n",
    "print(\"Log loss value:\", result.fun)"
   ]
  }
 ],
 "metadata": {
  "kernelspec": {
   "display_name": "Python 3 (ipykernel)",
   "language": "python",
   "name": "python3"
  },
  "language_info": {
   "codemirror_mode": {
    "name": "ipython",
    "version": 3
   },
   "file_extension": ".py",
   "mimetype": "text/x-python",
   "name": "python",
   "nbconvert_exporter": "python",
   "pygments_lexer": "ipython3",
   "version": "3.11.5"
  }
 },
 "nbformat": 4,
 "nbformat_minor": 5
}
