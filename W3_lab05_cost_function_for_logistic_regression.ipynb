{
 "cells": [
  {
   "cell_type": "code",
   "execution_count": 1,
   "id": "78ecd1a4",
   "metadata": {},
   "outputs": [],
   "source": [
    "#utilize the cost function for logistic regression\n",
    "import numpy as np\n",
    "%matplotlib widget\n",
    "import matplotlib.pyplot as plt\n",
    "from lab_utils_common import plot_data, sigmoid, dlc\n",
    "plt.style.use('./deeplearning.mplstyle')"
   ]
  },
  {
   "cell_type": "code",
   "execution_count": 3,
   "id": "f3f29bfe",
   "metadata": {},
   "outputs": [],
   "source": [
    "X_train = np.array([[0.5, 1.5], [1,1], [1.5,0.5],[3,0.5],[2,2],[1, 2.5]])\n",
    "y_train = np.array([0,0,0,1,1,1])"
   ]
  },
  {
   "cell_type": "code",
   "execution_count": null,
   "id": "a8a8e11c",
   "metadata": {},
   "outputs": [],
   "source": [
    "#y=1 and y=0 for figure and axis\n",
    "fig, ax = plt.subplots(1,1, figsize = (4,4))\n",
    "plot_data(X-train, y_train, ax)\n",
    "\n",
    "#set both axes to be from 0-4\n",
    "ax.axis([0,4,0,3.5])\n",
    "ax.set_ylabel('$x_1$', fontsize = )"
   ]
  }
 ],
 "metadata": {
  "kernelspec": {
   "display_name": "Python 3 (ipykernel)",
   "language": "python",
   "name": "python3"
  },
  "language_info": {
   "codemirror_mode": {
    "name": "ipython",
    "version": 3
   },
   "file_extension": ".py",
   "mimetype": "text/x-python",
   "name": "python",
   "nbconvert_exporter": "python",
   "pygments_lexer": "ipython3",
   "version": "3.11.5"
  }
 },
 "nbformat": 4,
 "nbformat_minor": 5
}
