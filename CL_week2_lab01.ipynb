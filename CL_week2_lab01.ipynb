{
 "cells": [
  {
   "cell_type": "markdown",
   "id": "1553f01a",
   "metadata": {},
   "source": [
    "# Numpy and vectorisation"
   ]
  },
  {
   "cell_type": "code",
   "execution_count": 2,
   "id": "ea08060e",
   "metadata": {},
   "outputs": [],
   "source": [
    "import numpy as np\n",
    "import time"
   ]
  },
  {
   "cell_type": "code",
   "execution_count": 3,
   "id": "c4082737",
   "metadata": {},
   "outputs": [
    {
     "name": "stdout",
     "output_type": "stream",
     "text": [
      "np.zeros(4): a = [0. 0. 0. 0.], a shape = (4,), a data type = float64\n",
      "np.random.random_sample(4): a = [0.11506877 0.23565611 0.90288383 0.48526751], a shape = (4,), a data type = float64\n"
     ]
    }
   ],
   "source": [
    "#numpy documentation at NumPy.org\n",
    "#numpy is indexable ie.. every value has an index\n",
    "#vector creation\n",
    "a = np.zeros(4)\n",
    "print(f\"np.zeros(4): a = {a}, a shape = {a.shape}, a data type = {a.dtype}\")\n",
    "a = np.random.random_sample(4)\n",
    "print(f\"np.random.random_sample(4): a = {a}, a shape = {a.shape}, a data type = {a.dtype}\")"
   ]
  },
  {
   "cell_type": "code",
   "execution_count": 4,
   "id": "771e3a89",
   "metadata": {},
   "outputs": [
    {
     "name": "stdout",
     "output_type": "stream",
     "text": [
      "np.arange(4): a = [0 1 2 3], a shape = (4,), a data type = int64\n",
      "np.random.rand(4): a = [0.06883269 0.69589927 0.35208151 0.49270405], a shape = (4,), a data type = float64\n"
     ]
    }
   ],
   "source": [
    "#numpy with memory and filled arrays\n",
    "\n",
    "#integer values from 0 to 3\n",
    "a = np.arange(4)\n",
    "print(f\"np.arange(4): a = {a}, a shape = {a.shape}, a data type = {a.dtype}\")\n",
    "\n",
    "#random values could be float as well\n",
    "a = np.random.rand(4)\n",
    "print(f\"np.random.rand(4): a = {a}, a shape = {a.shape}, a data type = {a.dtype}\")"
   ]
  },
  {
   "cell_type": "code",
   "execution_count": 5,
   "id": "1f756b69",
   "metadata": {},
   "outputs": [
    {
     "name": "stdout",
     "output_type": "stream",
     "text": [
      "np.array([5,7,8,9]): a = [5 7 8 9], a shape = (4,), a data type = int64\n",
      "np.array([2.3, 4.6, 1.2, 7.8]): a = [2.3 4.6 1.2 7.8], a shape = (4,), a data type = float64\n"
     ]
    }
   ],
   "source": [
    "#manual values in a numpy routines\n",
    "a = np.array([5,7,8,9])\n",
    "print(f\"np.array([5,7,8,9]): a = {a}, a shape = {a.shape}, a data type = {a.dtype}\")\n",
    "\n",
    "#manula float values \n",
    "a = np.array([2.3, 4.6, 1.2, 7.8])\n",
    "print(f\"np.array([2.3, 4.6, 1.2, 7.8]): a = {a}, a shape = {a.shape}, a data type = {a.dtype}\")"
   ]
  },
  {
   "cell_type": "markdown",
   "id": "364064c3",
   "metadata": {},
   "source": [
    "# operations on vectors"
   ]
  },
  {
   "cell_type": "code",
   "execution_count": 6,
   "id": "cf49895c",
   "metadata": {},
   "outputs": [
    {
     "name": "stdout",
     "output_type": "stream",
     "text": [
      "a[2] shape = (), a[2] = 2, accessing an element returns a scalar\n",
      "a[-1] shape = (), a[-1] = 9, accessing an element returns a scalar\n",
      "Error message is:\n",
      "index 10 is out of bounds for axis 0 with size 10\n"
     ]
    }
   ],
   "source": [
    "#vectors indexing\n",
    "a = np.arange(10) #values from 0 to 9\n",
    "#accessing an element\n",
    "print(f\"a[2] shape = {a[2].shape}, a[2] = {a[2]}, accessing an element returns a scalar\")\n",
    "\n",
    "#accessing the last element\n",
    "print(f\"a[-1] shape = {a[-1].shape}, a[-1] = {a[-1]}, accessing an element returns a scalar\")\n",
    "\n",
    "#for the out of bound index\n",
    "try:\n",
    "    c = a[10]\n",
    "except Exception as e:\n",
    "    print(\"Error message is:\")\n",
    "    print(e)"
   ]
  },
  {
   "cell_type": "code",
   "execution_count": 7,
   "id": "c3abf96b",
   "metadata": {},
   "outputs": [
    {
     "name": "stdout",
     "output_type": "stream",
     "text": [
      "a[2:7:1] : [2 3 4 5 6]\n",
      "a[2:7:2] : [2 4 6]\n",
      "a[3:] : [3 4 5 6 7 8 9]\n",
      "a[:3] : [0 1 2]\n",
      "a[:] : [0 1 2 3 4 5 6 7 8 9]\n"
     ]
    }
   ],
   "source": [
    "#slicing in vectors\n",
    "#creates an array of indices using a set of three values (start:stop:step)\n",
    "\n",
    "a = np.arange(10)\n",
    "\n",
    "#accessing 5 consecutive elements with difference of 1\n",
    "c = a[2:7:1]\n",
    "print(f\"a[2:7:1] : {c}\")\n",
    "\n",
    "#accessing 3 elements seperated by 2\n",
    "c = a[2:7:2]\n",
    "print(f\"a[2:7:2] : {c}\")\n",
    "\n",
    "#accessing all elements index 3 and above\n",
    "c= a[3:]\n",
    "print(f\"a[3:] : {c}\")\n",
    "\n",
    "#accessing all elements below index 3\n",
    "c = a[:3]\n",
    "print(f\"a[:3] : {c}\")\n",
    "\n",
    "#accessing all elements\n",
    "c= a[:]\n",
    "print(f\"a[:] : {c}\")"
   ]
  },
  {
   "cell_type": "code",
   "execution_count": 8,
   "id": "a74798e0",
   "metadata": {},
   "outputs": [
    {
     "name": "stdout",
     "output_type": "stream",
     "text": [
      "np.arange(10) : [0 1 2 3 4 5 6 7 8 9]\n",
      "negative of a : [ 0 -1 -2 -3 -4 -5 -6 -7 -8 -9]\n",
      "Sum of all elements in a : 45\n",
      "Mean of all elements: 4.5\n",
      "Square of all elements in a: [ 0  1  4  9 16 25 36 49 64 81]\n"
     ]
    }
   ],
   "source": [
    "#single vector operations\n",
    "a = np.arange(10)\n",
    "print(f\"np.arange(10) : {a}\")\n",
    "\n",
    "#negative of elements\n",
    "b = -a\n",
    "print(f\"negative of a : {b}\")\n",
    "\n",
    "#sum of all elements\n",
    "c = np.sum(a)\n",
    "print(f\"Sum of all elements in a : {c}\")\n",
    "\n",
    "#mean of an array\n",
    "d = np.mean(a)\n",
    "print(f\"Mean of all elements: {d}\")\n",
    "\n",
    "#square of all elements\n",
    "e = a ** 2\n",
    "print(f\"Square of all elements in a: {e}\")"
   ]
  },
  {
   "cell_type": "code",
   "execution_count": 9,
   "id": "57adbc04",
   "metadata": {},
   "outputs": [
    {
     "name": "stdout",
     "output_type": "stream",
     "text": [
      "vector sum of the arrays is: [0 0 6 8]\n"
     ]
    }
   ],
   "source": [
    "#element wise vector operation\n",
    "a = np.array([1,2,3,4])\n",
    "b = np.array([-1,-2,3,4])\n",
    "print(f\"vector sum of the arrays is: {a+b}\")"
   ]
  },
  {
   "cell_type": "code",
   "execution_count": 10,
   "id": "5041898a",
   "metadata": {},
   "outputs": [
    {
     "name": "stdout",
     "output_type": "stream",
     "text": [
      "The error is:\n",
      "operands could not be broadcast together with shapes (4,) (2,) \n"
     ]
    }
   ],
   "source": [
    "#this won't work as they have different shapes \n",
    "c = np.array([3,4])\n",
    "try:\n",
    "    d = b + c\n",
    "except Exception as e:\n",
    "    print(\"The error is:\")\n",
    "    print(e)"
   ]
  },
  {
   "cell_type": "code",
   "execution_count": 11,
   "id": "4178ea61",
   "metadata": {},
   "outputs": [
    {
     "name": "stdout",
     "output_type": "stream",
     "text": [
      "Scalar product is: [ 5 10 15 20]\n"
     ]
    }
   ],
   "source": [
    "#Scalar vector operations\n",
    "a = np.array([1,2,3,4])\n",
    "b = 5 * a\n",
    "print(f\"Scalar product is: {b}\")"
   ]
  },
  {
   "cell_type": "code",
   "execution_count": 12,
   "id": "d7c7da26",
   "metadata": {},
   "outputs": [],
   "source": [
    "#Function to determine the dot product of two vectors\n",
    "def my_dot(a,b):\n",
    "    x = 0\n",
    "    \n",
    "    for i in range (a.shape[0]):\n",
    "        x += a[i] * b[i]\n",
    "        \n",
    "    return x"
   ]
  },
  {
   "cell_type": "code",
   "execution_count": 13,
   "id": "192b3262",
   "metadata": {},
   "outputs": [
    {
     "name": "stdout",
     "output_type": "stream",
     "text": [
      "Dot product is: 20\n"
     ]
    }
   ],
   "source": [
    "x1 = np.array([1,2,3,4])\n",
    "x2 = np.array([-1,2,3,2])\n",
    "\n",
    "print(f\"Dot product is: {my_dot(x1, x2)}\")"
   ]
  },
  {
   "cell_type": "code",
   "execution_count": 14,
   "id": "fff10874",
   "metadata": {},
   "outputs": [
    {
     "name": "stdout",
     "output_type": "stream",
     "text": [
      "Dot product using np.dot() method is: 20, Shape is ()\n"
     ]
    }
   ],
   "source": [
    "#Same process using np.dot method\n",
    "\n",
    "x3 = np.dot(x1,x2)\n",
    "print(f\"Dot product using np.dot() method is: {x3}, Shape is {x3.shape}\")"
   ]
  },
  {
   "cell_type": "code",
   "execution_count": 15,
   "id": "a08252f7",
   "metadata": {},
   "outputs": [
    {
     "name": "stdout",
     "output_type": "stream",
     "text": [
      "Time taken to calculate dot product is: 9.584903717041016 ms\n",
      "Product is: 2501072.581681195\n"
     ]
    }
   ],
   "source": [
    "np.random.seed(1)\n",
    "\n",
    "a = np.random.rand(10000000) #6zeroes\n",
    "b = np.random.rand(10000000)\n",
    "\n",
    "tic = time.time()\n",
    "c = np.dot(a,b)\n",
    "toc = time.time()\n",
    "\n",
    "print(f\"Time taken to calculate dot product is: {1000*(toc - tic)} ms\")\n",
    "print(f\"Product is: {c}\")"
   ]
  },
  {
   "cell_type": "code",
   "execution_count": 16,
   "id": "21d6e1f6",
   "metadata": {},
   "outputs": [],
   "source": [
    "del (a)"
   ]
  },
  {
   "cell_type": "code",
   "execution_count": 17,
   "id": "0441119e",
   "metadata": {},
   "outputs": [],
   "source": [
    "del (b)"
   ]
  },
  {
   "cell_type": "code",
   "execution_count": 18,
   "id": "3767ad13",
   "metadata": {},
   "outputs": [
    {
     "name": "stdout",
     "output_type": "stream",
     "text": [
      "Shape of x is: (4, 1)\n",
      "Shape of x[1] is: (1,)\n"
     ]
    }
   ],
   "source": [
    "x = np.array([[1],[2],[3],[4]])\n",
    "y = np.array([6])\n",
    "print(f\"Shape of x is: {x.shape}\")\n",
    "print(f\"Shape of x[1] is: {x[1].shape}\")"
   ]
  },
  {
   "cell_type": "markdown",
   "id": "eed97ef5",
   "metadata": {},
   "source": [
    "# matrices operations"
   ]
  },
  {
   "cell_type": "code",
   "execution_count": 20,
   "id": "4be58206",
   "metadata": {},
   "outputs": [
    {
     "name": "stdout",
     "output_type": "stream",
     "text": [
      "Shape of a is: (1, 5) and a is: [[0. 0. 0. 0. 0.]]\n"
     ]
    }
   ],
   "source": [
    "#create matrix\n",
    "# 1x5 matrix\n",
    "a = np.zeros((1,5))\n",
    "print(f\"Shape of a is: {a.shape} and a is: {a}\")"
   ]
  },
  {
   "cell_type": "code",
   "execution_count": 21,
   "id": "6ffb1a98",
   "metadata": {},
   "outputs": [
    {
     "name": "stdout",
     "output_type": "stream",
     "text": [
      "Shape of a is: (4, 1), and a is [[0.]\n",
      " [0.]\n",
      " [0.]\n",
      " [0.]]\n"
     ]
    }
   ],
   "source": [
    "# 4 row X 1 matrix\n",
    "a = np.zeros((4,1))\n",
    "print(f\"Shape of a is: {a.shape}, and a is {a}\")"
   ]
  },
  {
   "cell_type": "code",
   "execution_count": 23,
   "id": "1f973e33",
   "metadata": {},
   "outputs": [
    {
     "name": "stdout",
     "output_type": "stream",
     "text": [
      "a is : [[0. 0. 0. 0.]\n",
      " [0. 0. 0. 0.]\n",
      " [0. 0. 0. 0.]\n",
      " [0. 0. 0. 0.]\n",
      " [0. 0. 0. 0.]] and its shape is : (5, 4)\n"
     ]
    }
   ],
   "source": [
    "#5x4 matrix\n",
    "a = np.zeros((5,4))\n",
    "print(f\"a is : {a} and its shape is : {a.shape}\")"
   ]
  },
  {
   "cell_type": "code",
   "execution_count": 25,
   "id": "811fb9f7",
   "metadata": {},
   "outputs": [
    {
     "name": "stdout",
     "output_type": "stream",
     "text": [
      "Random matrix is: [[0.5669563  0.36607953 0.12254939 0.41590761]\n",
      " [0.83186916 0.49357909 0.90762403 0.71371965]\n",
      " [0.24246182 0.19614305 0.71120633 0.17314952]\n",
      " [0.21576912 0.71609203 0.89638213 0.17019093]\n",
      " [0.71807747 0.89104422 0.57643061 0.63979044]] and its shape is (5, 4)\n"
     ]
    }
   ],
   "source": [
    "#random sample\n",
    "a = np.random.random_sample((5,4))\n",
    "print(f\"Random matrix is: {a} and its shape is {a.shape}\")"
   ]
  },
  {
   "cell_type": "code",
   "execution_count": null,
   "id": "302fb122",
   "metadata": {},
   "outputs": [],
   "source": []
  }
 ],
 "metadata": {
  "kernelspec": {
   "display_name": "Python 3 (ipykernel)",
   "language": "python",
   "name": "python3"
  },
  "language_info": {
   "codemirror_mode": {
    "name": "ipython",
    "version": 3
   },
   "file_extension": ".py",
   "mimetype": "text/x-python",
   "name": "python",
   "nbconvert_exporter": "python",
   "pygments_lexer": "ipython3",
   "version": "3.11.5"
  }
 },
 "nbformat": 4,
 "nbformat_minor": 5
}
