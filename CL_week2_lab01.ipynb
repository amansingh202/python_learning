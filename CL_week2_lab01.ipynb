{
 "cells": [
  {
   "cell_type": "markdown",
   "id": "1553f01a",
   "metadata": {},
   "source": [
    "# Numpy and vectorisation"
   ]
  },
  {
   "cell_type": "code",
   "execution_count": 13,
   "id": "ea08060e",
   "metadata": {},
   "outputs": [],
   "source": [
    "import numpy as np\n",
    "import time"
   ]
  },
  {
   "cell_type": "code",
   "execution_count": 14,
   "id": "c4082737",
   "metadata": {},
   "outputs": [
    {
     "name": "stdout",
     "output_type": "stream",
     "text": [
      "np.zeros(4): a = [0. 0. 0. 0.], a shape = (4,), a data type = float64\n",
      "np.random.random_sample(4): a = [0.27354979 0.37679888 0.32106122 0.85989392], a shape = (4,), a data type = float64\n"
     ]
    }
   ],
   "source": [
    "#numpy documentation at NumPy.org\n",
    "#numpy is indexable ie.. every value has an index\n",
    "#vector creation\n",
    "a = np.zeros(4)\n",
    "print(f\"np.zeros(4): a = {a}, a shape = {a.shape}, a data type = {a.dtype}\")\n",
    "a = np.random.random_sample(4)\n",
    "print(f\"np.random.random_sample(4): a = {a}, a shape = {a.shape}, a data type = {a.dtype}\")"
   ]
  },
  {
   "cell_type": "code",
   "execution_count": 15,
   "id": "771e3a89",
   "metadata": {},
   "outputs": [
    {
     "name": "stdout",
     "output_type": "stream",
     "text": [
      "np.arange(4): a = [0 1 2 3], a shape = (4,), a data type = int64\n",
      "np.random.rand(4): a = [0.73816138 0.35443499 0.68060032 0.83749418], a shape = (4,), a data type = float64\n"
     ]
    }
   ],
   "source": [
    "#numpy with memory and filled arrays\n",
    "\n",
    "#integer values from 0 to 3\n",
    "a = np.arange(4)\n",
    "print(f\"np.arange(4): a = {a}, a shape = {a.shape}, a data type = {a.dtype}\")\n",
    "\n",
    "#random values could be float as well\n",
    "a = np.random.rand(4)\n",
    "print(f\"np.random.rand(4): a = {a}, a shape = {a.shape}, a data type = {a.dtype}\")"
   ]
  },
  {
   "cell_type": "code",
   "execution_count": 16,
   "id": "1f756b69",
   "metadata": {},
   "outputs": [
    {
     "name": "stdout",
     "output_type": "stream",
     "text": [
      "np.array([5,7,8,9]): a = [5 7 8 9], a shape = (4,), a data type = int64\n",
      "np.array([2.3, 4.6, 1.2, 7.8]): a = [2.3 4.6 1.2 7.8], a shape = (4,), a data type = float64\n"
     ]
    }
   ],
   "source": [
    "#manual values in a numpy routines\n",
    "a = np.array([5,7,8,9])\n",
    "print(f\"np.array([5,7,8,9]): a = {a}, a shape = {a.shape}, a data type = {a.dtype}\")\n",
    "\n",
    "#manula float values \n",
    "a = np.array([2.3, 4.6, 1.2, 7.8])\n",
    "print(f\"np.array([2.3, 4.6, 1.2, 7.8]): a = {a}, a shape = {a.shape}, a data type = {a.dtype}\")"
   ]
  },
  {
   "cell_type": "markdown",
   "id": "364064c3",
   "metadata": {},
   "source": [
    "# operations on vectors"
   ]
  },
  {
   "cell_type": "code",
   "execution_count": 17,
   "id": "cf49895c",
   "metadata": {},
   "outputs": [
    {
     "name": "stdout",
     "output_type": "stream",
     "text": [
      "a[2] shape = (), a[2] = 2, accessing an element returns a scalar\n",
      "a[-1] shape = (), a[-1] = 9, accessing an element returns a scalar\n",
      "Error message is:\n",
      "index 10 is out of bounds for axis 0 with size 10\n"
     ]
    }
   ],
   "source": [
    "#vectors indexing\n",
    "a = np.arange(10) #values from 0 to 9\n",
    "#accessing an element\n",
    "print(f\"a[2] shape = {a[2].shape}, a[2] = {a[2]}, accessing an element returns a scalar\")\n",
    "\n",
    "#accessing the last element\n",
    "print(f\"a[-1] shape = {a[-1].shape}, a[-1] = {a[-1]}, accessing an element returns a scalar\")\n",
    "\n",
    "#for the out of bound index\n",
    "try:\n",
    "    c = a[10]\n",
    "except Exception as e:\n",
    "    print(\"Error message is:\")\n",
    "    print(e)"
   ]
  },
  {
   "cell_type": "code",
   "execution_count": 18,
   "id": "c3abf96b",
   "metadata": {},
   "outputs": [
    {
     "name": "stdout",
     "output_type": "stream",
     "text": [
      "a[2:7:1] : [2 3 4 5 6]\n",
      "a[2:7:2] : [2 4 6]\n",
      "a[3:] : [3 4 5 6 7 8 9]\n",
      "a[:3] : [0 1 2]\n",
      "a[:] : [0 1 2 3 4 5 6 7 8 9]\n"
     ]
    }
   ],
   "source": [
    "#slicing in vectors\n",
    "#creates an array of indices using a set of three values (start:stop:step)\n",
    "\n",
    "a = np.arange(10)\n",
    "\n",
    "#accessing 5 consecutive elements with difference of 1\n",
    "c = a[2:7:1]\n",
    "print(f\"a[2:7:1] : {c}\")\n",
    "\n",
    "#accessing 3 elements seperated by 2\n",
    "c = a[2:7:2]\n",
    "print(f\"a[2:7:2] : {c}\")\n",
    "\n",
    "#accessing all elements index 3 and above\n",
    "c= a[3:]\n",
    "print(f\"a[3:] : {c}\")\n",
    "\n",
    "#accessing all elements below index 3\n",
    "c = a[:3]\n",
    "print(f\"a[:3] : {c}\")\n",
    "\n",
    "#accessing all elements\n",
    "c= a[:]\n",
    "print(f\"a[:] : {c}\")"
   ]
  },
  {
   "cell_type": "code",
   "execution_count": 19,
   "id": "a74798e0",
   "metadata": {},
   "outputs": [
    {
     "name": "stdout",
     "output_type": "stream",
     "text": [
      "np.arange(10) : [0 1 2 3 4 5 6 7 8 9]\n",
      "negative of a : [ 0 -1 -2 -3 -4 -5 -6 -7 -8 -9]\n",
      "Sum of all elements in a : 45\n",
      "Mean of all elements: 4.5\n",
      "Square of all elements in a: [ 0  1  4  9 16 25 36 49 64 81]\n"
     ]
    }
   ],
   "source": [
    "#single vector operations\n",
    "a = np.arange(10)\n",
    "print(f\"np.arange(10) : {a}\")\n",
    "\n",
    "#negative of elements\n",
    "b = -a\n",
    "print(f\"negative of a : {b}\")\n",
    "\n",
    "#sum of all elements\n",
    "c = np.sum(a)\n",
    "print(f\"Sum of all elements in a : {c}\")\n",
    "\n",
    "#mean of an array\n",
    "d = np.mean(a)\n",
    "print(f\"Mean of all elements: {d}\")\n",
    "\n",
    "#square of all elements\n",
    "e = a ** 2\n",
    "print(f\"Square of all elements in a: {e}\")"
   ]
  },
  {
   "cell_type": "code",
   "execution_count": 20,
   "id": "57adbc04",
   "metadata": {},
   "outputs": [
    {
     "name": "stdout",
     "output_type": "stream",
     "text": [
      "vector sum of the arrays is: [0 0 6 8]\n"
     ]
    }
   ],
   "source": [
    "#element wise vector operation\n",
    "a = np.array([1,2,3,4])\n",
    "b = np.array([-1,-2,3,4])\n",
    "print(f\"vector sum of the arrays is: {a+b}\")"
   ]
  },
  {
   "cell_type": "code",
   "execution_count": 21,
   "id": "01f57a45",
   "metadata": {},
   "outputs": [
    {
     "name": "stdout",
     "output_type": "stream",
     "text": [
      "The error is:\n",
      "operands could not be broadcast together with shapes (4,) (2,) \n"
     ]
    }
   ],
   "source": [
    "#this won't work as they have different shapes \n",
    "c = np.array([3,4])\n",
    "try:\n",
    "    d = b + c\n",
    "except Exception as e:\n",
    "    print(\"The error is:\")\n",
    "    print(e)"
   ]
  },
  {
   "cell_type": "code",
   "execution_count": 23,
   "id": "db1f0193",
   "metadata": {},
   "outputs": [
    {
     "name": "stdout",
     "output_type": "stream",
     "text": [
      "Scalar product is: [ 5 10 15 20]\n"
     ]
    }
   ],
   "source": [
    "#Scalar vector operations\n",
    "a = np.array([1,2,3,4])\n",
    "b = 5 * a\n",
    "print(f\"Scalar product is: {b}\")"
   ]
  },
  {
   "cell_type": "code",
   "execution_count": 26,
   "id": "bba5e6b0",
   "metadata": {},
   "outputs": [],
   "source": [
    "#Function to determine the dot product of two vectors\n",
    "def my_dot(a,b):\n",
    "    x = 0\n",
    "    \n",
    "    for i in range (a.shape[0]):\n",
    "        x += a[i] * b[i]\n",
    "        \n",
    "    return x"
   ]
  },
  {
   "cell_type": "code",
   "execution_count": 29,
   "id": "09ba1a8e",
   "metadata": {},
   "outputs": [
    {
     "name": "stdout",
     "output_type": "stream",
     "text": [
      "Dot product is: 20\n"
     ]
    }
   ],
   "source": [
    "x1 = np.array([1,2,3,4])\n",
    "x2 = np.array([-1,2,3,2])\n",
    "\n",
    "print(f\"Dot product is: {my_dot(x1, x2)}\")"
   ]
  },
  {
   "cell_type": "code",
   "execution_count": 31,
   "id": "abba4c5e",
   "metadata": {},
   "outputs": [
    {
     "name": "stdout",
     "output_type": "stream",
     "text": [
      "Dot product using np.dot() method is: 20, Shape is ()\n"
     ]
    }
   ],
   "source": [
    "#Same process using np.dot method\n",
    "\n",
    "x3 = np.dot(x1,x2)\n",
    "print(f\"Dot product using np.dot() method is: {x3}, Shape is {x3.shape}\")"
   ]
  },
  {
   "cell_type": "code",
   "execution_count": 35,
   "id": "f42ba93a",
   "metadata": {},
   "outputs": [
    {
     "name": "stdout",
     "output_type": "stream",
     "text": [
      "Time taken to calculate dot product is: 6.348133087158203 ms\n",
      "Product is: 2501072.581681195\n"
     ]
    }
   ],
   "source": [
    "np.random.seed(1)\n",
    "\n",
    "a = np.random.rand(10000000) #6zeroes\n",
    "b = np.random.rand(10000000)\n",
    "\n",
    "tic = time.time()\n",
    "c = np.dot(a,b)\n",
    "toc = time.time()\n",
    "\n",
    "print(f\"Time taken to calculate dot product is: {1000*(toc - tic)} ms\")\n",
    "print(f\"Product is: {c}\")"
   ]
  },
  {
   "cell_type": "code",
   "execution_count": 36,
   "id": "f21dab12",
   "metadata": {},
   "outputs": [],
   "source": [
    "del (a)"
   ]
  },
  {
   "cell_type": "code",
   "execution_count": 37,
   "id": "53a55a23",
   "metadata": {},
   "outputs": [],
   "source": [
    "del (b)"
   ]
  },
  {
   "cell_type": "code",
   "execution_count": 38,
   "id": "61118f76",
   "metadata": {},
   "outputs": [
    {
     "name": "stdout",
     "output_type": "stream",
     "text": [
      "Shape of x is: (4, 1)\n"
     ]
    }
   ],
   "source": [
    "x = np.array([[1],[2],[3],[4]])\n",
    "y = np.array([6])\n",
    "print(f\"Shape of x is: {x.shape}\")"
   ]
  },
  {
   "cell_type": "code",
   "execution_count": null,
   "id": "73787057",
   "metadata": {},
   "outputs": [],
   "source": []
  }
 ],
 "metadata": {
  "kernelspec": {
   "display_name": "Python 3 (ipykernel)",
   "language": "python",
   "name": "python3"
  },
  "language_info": {
   "codemirror_mode": {
    "name": "ipython",
    "version": 3
   },
   "file_extension": ".py",
   "mimetype": "text/x-python",
   "name": "python",
   "nbconvert_exporter": "python",
   "pygments_lexer": "ipython3",
   "version": "3.11.5"
  }
 },
 "nbformat": 4,
 "nbformat_minor": 5
}
