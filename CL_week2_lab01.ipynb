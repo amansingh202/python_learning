{
 "cells": [
  {
   "cell_type": "markdown",
   "id": "74a2d783",
   "metadata": {},
   "source": [
    "# Numpy and vectorisation"
   ]
  },
  {
   "cell_type": "code",
   "execution_count": 1,
   "id": "5d1bf37b",
   "metadata": {},
   "outputs": [],
   "source": [
    "import numpy as np\n",
    "import time"
   ]
  },
  {
   "cell_type": "code",
   "execution_count": 8,
   "id": "eb05c557",
   "metadata": {},
   "outputs": [
    {
     "name": "stdout",
     "output_type": "stream",
     "text": [
      "np.zeros(4): a = [0. 0. 0. 0.], a shape = (4,), a data type = float64\n",
      "np.random.random_sample(4): a = [0.22861082 0.60642997 0.99202154 0.70251606], a shape = (4,), a data type = float64\n"
     ]
    }
   ],
   "source": [
    "#numpy documentation at NumPy.org\n",
    "#numpy is indexable ie.. every value has an index\n",
    "#vector creation\n",
    "a = np.zeros(4)\n",
    "print(f\"np.zeros(4): a = {a}, a shape = {a.shape}, a data type = {a.dtype}\")\n",
    "a = np.random.random_sample(4)\n",
    "print(f\"np.random.random_sample(4): a = {a}, a shape = {a.shape}, a data type = {a.dtype}\")"
   ]
  },
  {
   "cell_type": "code",
   "execution_count": 10,
   "id": "dd84c278",
   "metadata": {},
   "outputs": [
    {
     "name": "stdout",
     "output_type": "stream",
     "text": [
      "np.arange(4): a = [0 1 2 3], a shape = (4,), a data type = int64\n",
      "np.random.rand(4): a = [0.13021856 0.84735263 0.70418544 0.04685777], a shape = (4,), a data type = float64\n"
     ]
    }
   ],
   "source": [
    "#numpy with memory and filled arrays\n",
    "\n",
    "#integer values from 0 to 3\n",
    "a = np.arange(4)\n",
    "print(f\"np.arange(4): a = {a}, a shape = {a.shape}, a data type = {a.dtype}\")\n",
    "\n",
    "#random values could be float as well\n",
    "a = np.random.rand(4)\n",
    "print(f\"np.random.rand(4): a = {a}, a shape = {a.shape}, a data type = {a.dtype}\")"
   ]
  },
  {
   "cell_type": "code",
   "execution_count": 13,
   "id": "a8cbf20c",
   "metadata": {},
   "outputs": [
    {
     "name": "stdout",
     "output_type": "stream",
     "text": [
      "np.array([5,7,8,9]): a = [5 7 8 9], a shape = (4,), a data type = int64\n",
      "np.array([2.3, 4.6, 1.2, 7.8]): a = [2.3 4.6 1.2 7.8], a shape = (4,), a data type = float64\n"
     ]
    }
   ],
   "source": [
    "#manual values in a numpy routines\n",
    "a = np.array([5,7,8,9])\n",
    "print(f\"np.array([5,7,8,9]): a = {a}, a shape = {a.shape}, a data type = {a.dtype}\")\n",
    "\n",
    "#manula float values \n",
    "a = np.array([2.3, 4.6, 1.2, 7.8])\n",
    "print(f\"np.array([2.3, 4.6, 1.2, 7.8]): a = {a}, a shape = {a.shape}, a data type = {a.dtype}\")"
   ]
  },
  {
   "cell_type": "markdown",
   "id": "cf9b88f9",
   "metadata": {},
   "source": [
    "# operations on vectors"
   ]
  },
  {
   "cell_type": "code",
   "execution_count": 16,
   "id": "f5e8f99c",
   "metadata": {},
   "outputs": [
    {
     "name": "stdout",
     "output_type": "stream",
     "text": [
      "a[2] shape = (), a[2] = 2, accessing an element returns a scalar\n",
      "a[-1] shape = (), a[-1] = 9, accessing an element returns a scalar\n",
      "Error message is:\n",
      "index 10 is out of bounds for axis 0 with size 10\n"
     ]
    }
   ],
   "source": [
    "#vectors indexing\n",
    "a = np.arange(10) #values from 0 to 9\n",
    "#accessing an element\n",
    "print(f\"a[2] shape = {a[2].shape}, a[2] = {a[2]}, accessing an element returns a scalar\")\n",
    "\n",
    "#accessing the last element\n",
    "print(f\"a[-1] shape = {a[-1].shape}, a[-1] = {a[-1]}, accessing an element returns a scalar\")\n",
    "\n",
    "#for the out of bound index\n",
    "try:\n",
    "    c = a[10]\n",
    "except Exception as e:\n",
    "    print(\"Error message is:\")\n",
    "    print(e)"
   ]
  },
  {
   "cell_type": "code",
   "execution_count": 21,
   "id": "3bded133",
   "metadata": {},
   "outputs": [
    {
     "name": "stdout",
     "output_type": "stream",
     "text": [
      "a[2:7:1] : [2 3 4 5 6]\n",
      "a[2:7:2] : [2 4 6]\n",
      "a[3:] : [3 4 5 6 7 8 9]\n",
      "a[:3] : [0 1 2]\n",
      "a[:] : [0 1 2 3 4 5 6 7 8 9]\n"
     ]
    }
   ],
   "source": [
    "#slicing in vectors\n",
    "#creates an array of indices using a set of three values (start:stop:step)\n",
    "\n",
    "a = np.arange(10)\n",
    "\n",
    "#accessing 5 consecutive elements with difference of 1\n",
    "c = a[2:7:1]\n",
    "print(f\"a[2:7:1] : {c}\")\n",
    "\n",
    "#accessing 3 elements seperated by 2\n",
    "c = a[2:7:2]\n",
    "print(f\"a[2:7:2] : {c}\")\n",
    "\n",
    "#accessing all elements index 3 and above\n",
    "c= a[3:]\n",
    "print(f\"a[3:] : {c}\")\n",
    "\n",
    "#accessing all elements below index 3\n",
    "c = a[:3]\n",
    "print(f\"a[:3] : {c}\")\n",
    "\n",
    "#accessing all elements\n",
    "c= a[:]\n",
    "print(f\"a[:] : {c}\")"
   ]
  },
  {
   "cell_type": "code",
   "execution_count": 25,
   "id": "96ffbfe0",
   "metadata": {},
   "outputs": [
    {
     "name": "stdout",
     "output_type": "stream",
     "text": [
      "np.arange(10) : [0 1 2 3 4 5 6 7 8 9]\n",
      "negative of a : [ 0 -1 -2 -3 -4 -5 -6 -7 -8 -9]\n",
      "Sum of all elements in a : 45\n",
      "Mean of all elements: 4.5\n"
     ]
    }
   ],
   "source": [
    "#single vector operations\n",
    "a = np.arange(10)\n",
    "print(f\"np.arange(10) : {a}\")\n",
    "\n",
    "#negative of elements\n",
    "b = -a\n",
    "print(f\"negative of a : {b}\")\n",
    "\n",
    "#sum of all elements\n",
    "c = np.sum(a)\n",
    "print(f\"Sum of all elements in a : {c}\")\n",
    "\n",
    "#mean of an array\n",
    "d = np.mean(a)\n",
    "print(f\"Mean of all elements: {d}\")\n",
    "\n",
    "#square of all elements\n",
    "e = a ** 2\n",
    "print(f\"Square of all elements in a: {e}\")"
   ]
  },
  {
   "cell_type": "code",
   "execution_count": null,
   "id": "b1759da5",
   "metadata": {},
   "outputs": [],
   "source": []
  }
 ],
 "metadata": {
  "kernelspec": {
   "display_name": "Python 3 (ipykernel)",
   "language": "python",
   "name": "python3"
  },
  "language_info": {
   "codemirror_mode": {
    "name": "ipython",
    "version": 3
   },
   "file_extension": ".py",
   "mimetype": "text/x-python",
   "name": "python",
   "nbconvert_exporter": "python",
   "pygments_lexer": "ipython3",
   "version": "3.11.5"
  }
 },
 "nbformat": 4,
 "nbformat_minor": 5
}
