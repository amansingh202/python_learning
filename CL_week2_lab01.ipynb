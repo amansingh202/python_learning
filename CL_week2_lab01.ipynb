{
 "cells": [
  {
   "cell_type": "markdown",
   "id": "a869d2b4",
   "metadata": {},
   "source": [
    "# Numpy and vectorisation"
   ]
  },
  {
   "cell_type": "code",
   "execution_count": 1,
   "id": "0e2ea7fe",
   "metadata": {},
   "outputs": [],
   "source": [
    "import numpy as np\n",
    "import time"
   ]
  },
  {
   "cell_type": "code",
   "execution_count": 8,
   "id": "d8e02d2d",
   "metadata": {},
   "outputs": [
    {
     "name": "stdout",
     "output_type": "stream",
     "text": [
      "np.zeros(4): a = [0. 0. 0. 0.], a shape = (4,), a data type = float64\n",
      "np.random.random_sample(4): a = [0.22861082 0.60642997 0.99202154 0.70251606], a shape = (4,), a data type = float64\n"
     ]
    }
   ],
   "source": [
    "#numpy documentation at NumPy.org\n",
    "#numpy is indexable ie.. every value has an index\n",
    "#vector creation\n",
    "a = np.zeros(4)\n",
    "print(f\"np.zeros(4): a = {a}, a shape = {a.shape}, a data type = {a.dtype}\")\n",
    "a = np.random.random_sample(4)\n",
    "print(f\"np.random.random_sample(4): a = {a}, a shape = {a.shape}, a data type = {a.dtype}\")"
   ]
  },
  {
   "cell_type": "code",
   "execution_count": 9,
   "id": "2e0549fe",
   "metadata": {},
   "outputs": [
    {
     "name": "stdout",
     "output_type": "stream",
     "text": [
      "np.arange(4): a = [0 1 2 3], a shape = (4,), a data type = int64\n"
     ]
    }
   ],
   "source": [
    "#numpy with memory and filled arrays\n",
    "a = np.arange(4)\n",
    "print(f\"np.arange(4): a = {a}, a shape = {a.shape}, a data type = {a.dtype}\")\n",
    "a = np.random.rand(4)\n",
    "print9f"
   ]
  },
  {
   "cell_type": "code",
   "execution_count": null,
   "id": "4f39a54a",
   "metadata": {},
   "outputs": [],
   "source": []
  }
 ],
 "metadata": {
  "kernelspec": {
   "display_name": "Python 3 (ipykernel)",
   "language": "python",
   "name": "python3"
  },
  "language_info": {
   "codemirror_mode": {
    "name": "ipython",
    "version": 3
   },
   "file_extension": ".py",
   "mimetype": "text/x-python",
   "name": "python",
   "nbconvert_exporter": "python",
   "pygments_lexer": "ipython3",
   "version": "3.11.5"
  }
 },
 "nbformat": 4,
 "nbformat_minor": 5
}
