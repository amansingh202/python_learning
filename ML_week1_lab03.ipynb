{
 "cells": [
  {
   "cell_type": "markdown",
   "id": "833e5d47",
   "metadata": {},
   "source": [
    "x = Training Example features"
   ]
  },
  {
   "cell_type": "markdown",
   "id": "750f6454",
   "metadata": {},
   "source": [
    "y = Training example targets\n",
    "x(i), y(i) ith training example\n",
    "m = number of training examples\n",
    "w = parameter, weight\n",
    "b = parameter, bias\n"
   ]
  },
  {
   "cell_type": "markdown",
   "id": "0c63fa69",
   "metadata": {},
   "source": [
    "# Numpy library and matplot library"
   ]
  },
  {
   "cell_type": "code",
   "execution_count": 2,
   "id": "79be78f0",
   "metadata": {},
   "outputs": [],
   "source": [
    "import numpy as np"
   ]
  },
  {
   "cell_type": "code",
   "execution_count": 4,
   "id": "50722b5c",
   "metadata": {},
   "outputs": [],
   "source": [
    "import matplotlib.pyplot as plt"
   ]
  },
  {
   "cell_type": "code",
   "execution_count": 5,
   "id": "1445e505",
   "metadata": {},
   "outputs": [],
   "source": [
    "plt.style.use('./deeplearning.mplstyle')"
   ]
  },
  {
   "cell_type": "markdown",
   "id": "62368694",
   "metadata": {},
   "source": [
    "x_train is the input variable (size in 1000 sq feet)"
   ]
  },
  {
   "cell_type": "markdown",
   "id": "17e66bbb",
   "metadata": {},
   "source": [
    "y_train is the target (price in 1000s of dollars)"
   ]
  },
  {
   "cell_type": "code",
   "execution_count": 6,
   "id": "5939e53a",
   "metadata": {},
   "outputs": [
    {
     "name": "stdout",
     "output_type": "stream",
     "text": [
      "x_train: [1 3]\n",
      "y_train: [300 500]\n"
     ]
    }
   ],
   "source": [
    "x_train = np.array([1, 3])\n",
    "y_train = np.array([300, 500])\n",
    "print(f\"x_train: {x_train}\")\n",
    "print(f\"y_train: {y_train}\")"
   ]
  },
  {
   "cell_type": "code",
   "execution_count": 8,
   "id": "8dccb84f",
   "metadata": {},
   "outputs": [
    {
     "name": "stdout",
     "output_type": "stream",
     "text": [
      "x_train shape: (2,)\n"
     ]
    }
   ],
   "source": [
    "#training input shape\n",
    "print(f\"x_train shape: {x_train.shape}\")"
   ]
  },
  {
   "cell_type": "code",
   "execution_count": 12,
   "id": "7bbd3ea1",
   "metadata": {},
   "outputs": [
    {
     "data": {
      "text/plain": [
       "2"
      ]
     },
     "execution_count": 12,
     "metadata": {},
     "output_type": "execute_result"
    }
   ],
   "source": [
    "#trainign examples is 'm'\n",
    "m = x_train.shape[0]\n",
    "m"
   ]
  },
  {
   "cell_type": "code",
   "execution_count": 15,
   "id": "b81ec68b",
   "metadata": {},
   "outputs": [
    {
     "name": "stdout",
     "output_type": "stream",
     "text": [
      "(x^(0), y^(0)) = (1, 300)\n"
     ]
    }
   ],
   "source": [
    "i = 0\n",
    "x_i = x_train[i]\n",
    "y_i = y_train[i]\n",
    "print(f\"(x^({i}), y^({i})) = ({x_i}, {y_i})\")"
   ]
  },
  {
   "cell_type": "code",
   "execution_count": 16,
   "id": "051a7a78",
   "metadata": {},
   "outputs": [
    {
     "name": "stdout",
     "output_type": "stream",
     "text": [
      "(x^(1), y^(1)) = (3, 500)\n"
     ]
    }
   ],
   "source": [
    "i = 1\n",
    "x_i = x_train[i]\n",
    "y_i = y_train[i]\n",
    "print(f\"(x^({i}), y^({i})) = ({x_i}, {y_i})\")"
   ]
  },
  {
   "cell_type": "markdown",
   "id": "a3ff1386",
   "metadata": {},
   "source": [
    "plotting data using scatter plot"
   ]
  },
  {
   "cell_type": "code",
   "execution_count": null,
   "id": "d7887d3d",
   "metadata": {},
   "outputs": [],
   "source": []
  }
 ],
 "metadata": {
  "kernelspec": {
   "display_name": "Python 3 (ipykernel)",
   "language": "python",
   "name": "python3"
  },
  "language_info": {
   "codemirror_mode": {
    "name": "ipython",
    "version": 3
   },
   "file_extension": ".py",
   "mimetype": "text/x-python",
   "name": "python",
   "nbconvert_exporter": "python",
   "pygments_lexer": "ipython3",
   "version": "3.11.5"
  }
 },
 "nbformat": 4,
 "nbformat_minor": 5
}
