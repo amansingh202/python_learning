{
 "cells": [
  {
   "cell_type": "markdown",
   "id": "39fafe46",
   "metadata": {},
   "source": [
    "x = Training Example features"
   ]
  },
  {
   "cell_type": "markdown",
   "id": "80a1bdf5",
   "metadata": {},
   "source": [
    "y = Training example targets\n",
    "x(i), y(i) ith training example\n",
    "m = number of training examples\n",
    "w = parameter, weight\n",
    "b = parameter, bias\n"
   ]
  },
  {
   "cell_type": "markdown",
   "id": "03abb1f1",
   "metadata": {},
   "source": [
    "# Numpy library and matplot library"
   ]
  },
  {
   "cell_type": "code",
   "execution_count": 20,
   "id": "9b54a7be",
   "metadata": {},
   "outputs": [],
   "source": [
    "import numpy as np"
   ]
  },
  {
   "cell_type": "code",
   "execution_count": 21,
   "id": "f1bca624",
   "metadata": {},
   "outputs": [],
   "source": [
    "import matplotlib.pyplot as plt"
   ]
  },
  {
   "cell_type": "code",
   "execution_count": 22,
   "id": "dfecc0fb",
   "metadata": {},
   "outputs": [],
   "source": [
    "plt.style.use('./deeplearning.mplstyle')"
   ]
  },
  {
   "cell_type": "markdown",
   "id": "d0f48664",
   "metadata": {},
   "source": [
    "x_train is the input variable (size in 1000 sq feet)"
   ]
  },
  {
   "cell_type": "markdown",
   "id": "8a38de6b",
   "metadata": {},
   "source": [
    "y_train is the target (price in 1000s of dollars)"
   ]
  },
  {
   "cell_type": "code",
   "execution_count": 23,
   "id": "037eea05",
   "metadata": {},
   "outputs": [
    {
     "name": "stdout",
     "output_type": "stream",
     "text": [
      "x_train: [1 3]\n",
      "y_train: [300 500]\n"
     ]
    }
   ],
   "source": [
    "x_train = np.array([1, 3])\n",
    "y_train = np.array([300, 500])\n",
    "print(f\"x_train: {x_train}\")\n",
    "print(f\"y_train: {y_train}\")"
   ]
  },
  {
   "cell_type": "code",
   "execution_count": 24,
   "id": "172aba57",
   "metadata": {},
   "outputs": [
    {
     "name": "stdout",
     "output_type": "stream",
     "text": [
      "x_train shape: (2,)\n"
     ]
    }
   ],
   "source": [
    "#training input shape\n",
    "print(f\"x_train shape: {x_train.shape}\")"
   ]
  },
  {
   "cell_type": "code",
   "execution_count": 25,
   "id": "474d6301",
   "metadata": {},
   "outputs": [
    {
     "data": {
      "text/plain": [
       "2"
      ]
     },
     "execution_count": 25,
     "metadata": {},
     "output_type": "execute_result"
    }
   ],
   "source": [
    "#trainign examples is 'm'\n",
    "m = x_train.shape[0]\n",
    "m"
   ]
  },
  {
   "cell_type": "code",
   "execution_count": 26,
   "id": "a8363269",
   "metadata": {},
   "outputs": [
    {
     "name": "stdout",
     "output_type": "stream",
     "text": [
      "(x^(0), y^(0)) = (1, 300)\n"
     ]
    }
   ],
   "source": [
    "i = 0\n",
    "x_i = x_train[i]\n",
    "y_i = y_train[i]\n",
    "print(f\"(x^({i}), y^({i})) = ({x_i}, {y_i})\")"
   ]
  },
  {
   "cell_type": "code",
   "execution_count": 27,
   "id": "9a4ffb6a",
   "metadata": {},
   "outputs": [
    {
     "name": "stdout",
     "output_type": "stream",
     "text": [
      "(x^(1), y^(1)) = (3, 500)\n"
     ]
    }
   ],
   "source": [
    "i = 1\n",
    "x_i = x_train[i]\n",
    "y_i = y_train[i]\n",
    "print(f\"(x^({i}), y^({i})) = ({x_i}, {y_i})\")"
   ]
  },
  {
   "cell_type": "markdown",
   "id": "f952df03",
   "metadata": {},
   "source": [
    "plotting data using scatter plot"
   ]
  },
  {
   "cell_type": "code",
   "execution_count": 34,
   "id": "998266f9",
   "metadata": {},
   "outputs": [
    {
     "data": {
      "text/plain": [
       "Text(0.5, 1.0, 'Housing Prices')"
      ]
     },
     "execution_count": 34,
     "metadata": {},
     "output_type": "execute_result"
    },
    {
     "data": {
      "image/png": "[encoded data removed]",
      "text/plain": [
       "<Figure size 640x480 with 1 Axes>"
      ]
     },
     "metadata": {},
     "output_type": "display_data"
    }
   ],
   "source": [
    "plt.scatter(x_train, y_train, marker = 'x', c = 'g')\n",
    "plt.xlabel(\"size in feet^2\")\n",
    "plt.ylabel(\"Price in 1000s of dollars\")\n",
    "plt.title(\"Housing Prices\")"
   ]
  },
  {
   "cell_type": "code",
   "execution_count": 1,
   "id": "6e1070d8",
   "metadata": {},
   "outputs": [
    {
     "name": "stdout",
     "output_type": "stream",
     "text": [
      "w: 200\n",
      "b: 100\n"
     ]
    }
   ],
   "source": [
    "#adjust w and b parameters\n",
    "w = 200\n",
    "b = 100\n",
    "print(f\"w: {w}\")\n",
    "print(f\"b: {b}\")"
   ]
  },
  {
   "cell_type": "code",
   "execution_count": null,
   "id": "10e9dc0c",
   "metadata": {},
   "outputs": [],
   "source": []
  }
 ],
 "metadata": {
  "kernelspec": {
   "display_name": "Python 3 (ipykernel)",
   "language": "python",
   "name": "python3"
  },
  "language_info": {
   "codemirror_mode": {
    "name": "ipython",
    "version": 3
   },
   "file_extension": ".py",
   "mimetype": "text/x-python",
   "name": "python",
   "nbconvert_exporter": "python",
   "pygments_lexer": "ipython3",
   "version": "3.11.5"
  }
 },
 "nbformat": 4,
 "nbformat_minor": 5
}
